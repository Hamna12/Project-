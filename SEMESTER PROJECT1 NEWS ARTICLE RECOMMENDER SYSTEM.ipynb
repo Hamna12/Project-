{
 "cells": [
  {
   "cell_type": "markdown",
   "metadata": {},
   "source": [
    "# Project: News Article Recommender System"
   ]
  },
  {
   "cell_type": "markdown",
   "metadata": {},
   "source": [
    "### Importing all Necessary libraries"
   ]
  },
  {
   "cell_type": "code",
   "execution_count": 97,
   "metadata": {},
   "outputs": [
    {
     "name": "stderr",
     "output_type": "stream",
     "text": [
      "[nltk_data] Downloading package wordnet to C:\\Users\\Silicon\n",
      "[nltk_data]     computers\\AppData\\Roaming\\nltk_data...\n",
      "[nltk_data]   Package wordnet is already up-to-date!\n"
     ]
    }
   ],
   "source": [
    "import pandas as pd\n",
    "# Below libraries are for text processing using NLTK\n",
    "from nltk.corpus import stopwords\n",
    "from nltk.tokenize import word_tokenize\n",
    "from nltk.stem import WordNetLemmatizer\n",
    "\n",
    "# Below libraries are for feature representation using sklearn\n",
    "from sklearn.decomposition import NMF\n",
    "from sklearn.feature_extraction.text import CountVectorizer\n",
    "from sklearn.feature_extraction.text import TfidfVectorizer\n",
    "\n",
    "# Below libraries are for similarity matrices using sklearn\n",
    "from sklearn.metrics.pairwise import cosine_similarity \n",
    "\n",
    "from nltk.stem import PorterStemmer\n",
    "from nltk.stem import WordNetLemmatizer\n",
    "nltk.download('wordnet')\n",
    "from nltk.tokenize import word_tokenize\n",
    "from nltk.tokenize import sent_tokenize\n",
    "\n",
    "import matplotlib.pyplot as plt\n",
    "import seaborn as sns\n",
    "\n",
    "from sklearn.model_selection import train_test_split\n",
    "from sklearn.metrics import accuracy_score\n",
    "from sklearn.metrics import confusion_matrix\n",
    "from sklearn.metrics import classification_report\n",
    "from sklearn.metrics import make_scorer, roc_curve, roc_auc_score\n",
    "from sklearn.metrics import precision_recall_fscore_support as score\n",
    "from sklearn.metrics.pairwise import cosine_similarity\n",
    "from sklearn.multiclass import OneVsRestClassifier\n",
    "from sklearn.linear_model import LogisticRegression\n",
    "from sklearn.svm import SVC, LinearSVC\n",
    "from sklearn.neighbors import KNeighborsClassifier\n",
    "from sklearn.tree import DecisionTreeClassifier\n",
    "from sklearn.ensemble import RandomForestClassifier\n",
    "from sklearn.neighbors import KNeighborsClassifier"
   ]
  },
  {
   "cell_type": "code",
   "execution_count": 98,
   "metadata": {},
   "outputs": [
    {
     "name": "stdout",
     "output_type": "stream",
     "text": [
      "Requirement already satisfied: nltk in c:\\users\\silicon computers\\anaconda3\\lib\\site-packages (3.5)\n",
      "Requirement already satisfied: joblib in c:\\users\\silicon computers\\anaconda3\\lib\\site-packages (from nltk) (0.17.0)\n",
      "Requirement already satisfied: regex in c:\\users\\silicon computers\\anaconda3\\lib\\site-packages (from nltk) (2020.10.15)\n",
      "Requirement already satisfied: tqdm in c:\\users\\silicon computers\\anaconda3\\lib\\site-packages (from nltk) (4.50.2)\n",
      "Requirement already satisfied: click in c:\\users\\silicon computers\\anaconda3\\lib\\site-packages (from nltk) (7.1.2)\n"
     ]
    }
   ],
   "source": [
    "!pip install nltk"
   ]
  },
  {
   "cell_type": "code",
   "execution_count": 99,
   "metadata": {},
   "outputs": [],
   "source": [
    "import nltk"
   ]
  },
  {
   "cell_type": "code",
   "execution_count": 100,
   "metadata": {},
   "outputs": [
    {
     "name": "stderr",
     "output_type": "stream",
     "text": [
      "[nltk_data] Downloading package punkt to C:\\Users\\Silicon\n",
      "[nltk_data]     computers\\AppData\\Roaming\\nltk_data...\n",
      "[nltk_data]   Package punkt is already up-to-date!\n",
      "[nltk_data] Downloading package stopwords to C:\\Users\\Silicon\n",
      "[nltk_data]     computers\\AppData\\Roaming\\nltk_data...\n",
      "[nltk_data]   Package stopwords is already up-to-date!\n",
      "[nltk_data] Downloading package wordnet to C:\\Users\\Silicon\n",
      "[nltk_data]     computers\\AppData\\Roaming\\nltk_data...\n",
      "[nltk_data]   Package wordnet is already up-to-date!\n"
     ]
    },
    {
     "data": {
      "text/plain": [
       "True"
      ]
     },
     "execution_count": 100,
     "metadata": {},
     "output_type": "execute_result"
    }
   ],
   "source": [
    "nltk.download('punkt')\n",
    "nltk.download('stopwords')\n",
    "nltk.download('wordnet')"
   ]
  },
  {
   "cell_type": "markdown",
   "metadata": {},
   "source": [
    "# Load the Data"
   ]
  },
  {
   "cell_type": "code",
   "execution_count": 101,
   "metadata": {},
   "outputs": [
    {
     "data": {
      "text/html": [
       "<div>\n",
       "<style scoped>\n",
       "    .dataframe tbody tr th:only-of-type {\n",
       "        vertical-align: middle;\n",
       "    }\n",
       "\n",
       "    .dataframe tbody tr th {\n",
       "        vertical-align: top;\n",
       "    }\n",
       "\n",
       "    .dataframe thead th {\n",
       "        text-align: right;\n",
       "    }\n",
       "</style>\n",
       "<table border=\"1\" class=\"dataframe\">\n",
       "  <thead>\n",
       "    <tr style=\"text-align: right;\">\n",
       "      <th></th>\n",
       "      <th>Headline</th>\n",
       "      <th>Category</th>\n",
       "      <th>Description</th>\n",
       "    </tr>\n",
       "  </thead>\n",
       "  <tbody>\n",
       "    <tr>\n",
       "      <th>0</th>\n",
       "      <td>There Were 2 Mass Shootings In Texas Last Week...</td>\n",
       "      <td>CRIME</td>\n",
       "      <td>She left her husband. He killed their children...</td>\n",
       "    </tr>\n",
       "    <tr>\n",
       "      <th>1</th>\n",
       "      <td>Will Smith Joins Diplo And Nicky Jam For The 2...</td>\n",
       "      <td>ENTERTAINMENT</td>\n",
       "      <td>Of course it has a song.</td>\n",
       "    </tr>\n",
       "    <tr>\n",
       "      <th>2</th>\n",
       "      <td>Hugh Grant Marries For The First Time At Age 57</td>\n",
       "      <td>ENTERTAINMENT</td>\n",
       "      <td>The actor and his longtime girlfriend Anna Ebe...</td>\n",
       "    </tr>\n",
       "    <tr>\n",
       "      <th>3</th>\n",
       "      <td>Jim Carrey Blasts 'Castrato' Adam Schiff And D...</td>\n",
       "      <td>ENTERTAINMENT</td>\n",
       "      <td>The actor gives Dems an ass-kicking for not fi...</td>\n",
       "    </tr>\n",
       "    <tr>\n",
       "      <th>4</th>\n",
       "      <td>Julianna Margulies Uses Donald Trump Poop Bags...</td>\n",
       "      <td>ENTERTAINMENT</td>\n",
       "      <td>The \"Dietland\" actress said using the bags is ...</td>\n",
       "    </tr>\n",
       "    <tr>\n",
       "      <th>...</th>\n",
       "      <td>...</td>\n",
       "      <td>...</td>\n",
       "      <td>...</td>\n",
       "    </tr>\n",
       "    <tr>\n",
       "      <th>244</th>\n",
       "      <td>Sorry, Ben Affleck, Make Way For Justin Therou...</td>\n",
       "      <td>ENTERTAINMENT</td>\n",
       "      <td>Ther-oh-my-God!</td>\n",
       "    </tr>\n",
       "    <tr>\n",
       "      <th>245</th>\n",
       "      <td>Hillary Clinton Tips A Russian Hat At Trump Du...</td>\n",
       "      <td>POLITICS</td>\n",
       "      <td>If you can't beat 'em, join 'em,\" Clinton said...</td>\n",
       "    </tr>\n",
       "    <tr>\n",
       "      <th>246</th>\n",
       "      <td>Giuliani Says Mueller Can't Talk To Trump Unti...</td>\n",
       "      <td>POLITICS</td>\n",
       "      <td>We can't let our guy go in and be questioned w...</td>\n",
       "    </tr>\n",
       "    <tr>\n",
       "      <th>247</th>\n",
       "      <td>60 Minutes' Reporter Reveals Trump's Chilling ...</td>\n",
       "      <td>MEDIA</td>\n",
       "      <td>Lesley Stahl said Trump admitted that he attac...</td>\n",
       "    </tr>\n",
       "    <tr>\n",
       "      <th>248</th>\n",
       "      <td>Before You Call The Cops' On Him, Watch His Po...</td>\n",
       "      <td>BLACK VOICES</td>\n",
       "      <td>I hate that anyone at all might possibly be af...</td>\n",
       "    </tr>\n",
       "  </tbody>\n",
       "</table>\n",
       "<p>249 rows × 3 columns</p>\n",
       "</div>"
      ],
      "text/plain": [
       "                                              Headline       Category  \\\n",
       "0    There Were 2 Mass Shootings In Texas Last Week...          CRIME   \n",
       "1    Will Smith Joins Diplo And Nicky Jam For The 2...  ENTERTAINMENT   \n",
       "2      Hugh Grant Marries For The First Time At Age 57  ENTERTAINMENT   \n",
       "3    Jim Carrey Blasts 'Castrato' Adam Schiff And D...  ENTERTAINMENT   \n",
       "4    Julianna Margulies Uses Donald Trump Poop Bags...  ENTERTAINMENT   \n",
       "..                                                 ...            ...   \n",
       "244  Sorry, Ben Affleck, Make Way For Justin Therou...  ENTERTAINMENT   \n",
       "245  Hillary Clinton Tips A Russian Hat At Trump Du...       POLITICS   \n",
       "246  Giuliani Says Mueller Can't Talk To Trump Unti...       POLITICS   \n",
       "247  60 Minutes' Reporter Reveals Trump's Chilling ...          MEDIA   \n",
       "248  Before You Call The Cops' On Him, Watch His Po...   BLACK VOICES   \n",
       "\n",
       "                                           Description  \n",
       "0    She left her husband. He killed their children...  \n",
       "1                             Of course it has a song.  \n",
       "2    The actor and his longtime girlfriend Anna Ebe...  \n",
       "3    The actor gives Dems an ass-kicking for not fi...  \n",
       "4    The \"Dietland\" actress said using the bags is ...  \n",
       "..                                                 ...  \n",
       "244                                    Ther-oh-my-God!  \n",
       "245  If you can't beat 'em, join 'em,\" Clinton said...  \n",
       "246  We can't let our guy go in and be questioned w...  \n",
       "247  Lesley Stahl said Trump admitted that he attac...  \n",
       "248  I hate that anyone at all might possibly be af...  \n",
       "\n",
       "[249 rows x 3 columns]"
      ]
     },
     "execution_count": 101,
     "metadata": {},
     "output_type": "execute_result"
    }
   ],
   "source": [
    "news_articles = pd.read_csv(\"NEWS_ARTICLES_DATA.csv\")\n",
    "news_articles"
   ]
  },
  {
   "cell_type": "code",
   "execution_count": 102,
   "metadata": {},
   "outputs": [
    {
     "name": "stdout",
     "output_type": "stream",
     "text": [
      "<class 'pandas.core.frame.DataFrame'>\n",
      "RangeIndex: 249 entries, 0 to 248\n",
      "Data columns (total 3 columns):\n",
      " #   Column       Non-Null Count  Dtype \n",
      "---  ------       --------------  ----- \n",
      " 0   Headline     249 non-null    object\n",
      " 1   Category     249 non-null    object\n",
      " 2   Description  249 non-null    object\n",
      "dtypes: object(3)\n",
      "memory usage: 3.0+ KB\n"
     ]
    }
   ],
   "source": [
    "news_articles.info()"
   ]
  },
  {
   "cell_type": "code",
   "execution_count": 103,
   "metadata": {},
   "outputs": [
    {
     "data": {
      "text/plain": [
       "Headline       0\n",
       "Category       0\n",
       "Description    0\n",
       "dtype: int64"
      ]
     },
     "execution_count": 103,
     "metadata": {},
     "output_type": "execute_result"
    }
   ],
   "source": [
    "news_articles.isnull().sum()"
   ]
  },
  {
   "cell_type": "markdown",
   "metadata": {},
   "source": [
    "# To show New column we added"
   ]
  },
  {
   "cell_type": "code",
   "execution_count": 104,
   "metadata": {},
   "outputs": [
    {
     "data": {
      "text/html": [
       "<div>\n",
       "<style scoped>\n",
       "    .dataframe tbody tr th:only-of-type {\n",
       "        vertical-align: middle;\n",
       "    }\n",
       "\n",
       "    .dataframe tbody tr th {\n",
       "        vertical-align: top;\n",
       "    }\n",
       "\n",
       "    .dataframe thead th {\n",
       "        text-align: right;\n",
       "    }\n",
       "</style>\n",
       "<table border=\"1\" class=\"dataframe\">\n",
       "  <thead>\n",
       "    <tr style=\"text-align: right;\">\n",
       "      <th></th>\n",
       "      <th>Headline</th>\n",
       "      <th>Category</th>\n",
       "      <th>Description</th>\n",
       "      <th>CategoryId</th>\n",
       "    </tr>\n",
       "  </thead>\n",
       "  <tbody>\n",
       "    <tr>\n",
       "      <th>0</th>\n",
       "      <td>There Were 2 Mass Shootings In Texas Last Week...</td>\n",
       "      <td>CRIME</td>\n",
       "      <td>She left her husband. He killed their children...</td>\n",
       "      <td>0</td>\n",
       "    </tr>\n",
       "    <tr>\n",
       "      <th>1</th>\n",
       "      <td>Will Smith Joins Diplo And Nicky Jam For The 2...</td>\n",
       "      <td>ENTERTAINMENT</td>\n",
       "      <td>Of course it has a song.</td>\n",
       "      <td>1</td>\n",
       "    </tr>\n",
       "    <tr>\n",
       "      <th>2</th>\n",
       "      <td>Hugh Grant Marries For The First Time At Age 57</td>\n",
       "      <td>ENTERTAINMENT</td>\n",
       "      <td>The actor and his longtime girlfriend Anna Ebe...</td>\n",
       "      <td>1</td>\n",
       "    </tr>\n",
       "    <tr>\n",
       "      <th>3</th>\n",
       "      <td>Jim Carrey Blasts 'Castrato' Adam Schiff And D...</td>\n",
       "      <td>ENTERTAINMENT</td>\n",
       "      <td>The actor gives Dems an ass-kicking for not fi...</td>\n",
       "      <td>1</td>\n",
       "    </tr>\n",
       "    <tr>\n",
       "      <th>4</th>\n",
       "      <td>Julianna Margulies Uses Donald Trump Poop Bags...</td>\n",
       "      <td>ENTERTAINMENT</td>\n",
       "      <td>The \"Dietland\" actress said using the bags is ...</td>\n",
       "      <td>1</td>\n",
       "    </tr>\n",
       "  </tbody>\n",
       "</table>\n",
       "</div>"
      ],
      "text/plain": [
       "                                            Headline       Category  \\\n",
       "0  There Were 2 Mass Shootings In Texas Last Week...          CRIME   \n",
       "1  Will Smith Joins Diplo And Nicky Jam For The 2...  ENTERTAINMENT   \n",
       "2    Hugh Grant Marries For The First Time At Age 57  ENTERTAINMENT   \n",
       "3  Jim Carrey Blasts 'Castrato' Adam Schiff And D...  ENTERTAINMENT   \n",
       "4  Julianna Margulies Uses Donald Trump Poop Bags...  ENTERTAINMENT   \n",
       "\n",
       "                                         Description  CategoryId  \n",
       "0  She left her husband. He killed their children...           0  \n",
       "1                           Of course it has a song.           1  \n",
       "2  The actor and his longtime girlfriend Anna Ebe...           1  \n",
       "3  The actor gives Dems an ass-kicking for not fi...           1  \n",
       "4  The \"Dietland\" actress said using the bags is ...           1  "
      ]
     },
     "execution_count": 104,
     "metadata": {},
     "output_type": "execute_result"
    }
   ],
   "source": [
    "news_articles['CategoryId'] = news_articles['Category'].factorize()[0]\n",
    "news_articles.head()"
   ]
  },
  {
   "cell_type": "markdown",
   "metadata": {},
   "source": [
    "# To show category's name with respect to category id"
   ]
  },
  {
   "cell_type": "code",
   "execution_count": 105,
   "metadata": {},
   "outputs": [
    {
     "data": {
      "text/html": [
       "<div>\n",
       "<style scoped>\n",
       "    .dataframe tbody tr th:only-of-type {\n",
       "        vertical-align: middle;\n",
       "    }\n",
       "\n",
       "    .dataframe tbody tr th {\n",
       "        vertical-align: top;\n",
       "    }\n",
       "\n",
       "    .dataframe thead th {\n",
       "        text-align: right;\n",
       "    }\n",
       "</style>\n",
       "<table border=\"1\" class=\"dataframe\">\n",
       "  <thead>\n",
       "    <tr style=\"text-align: right;\">\n",
       "      <th></th>\n",
       "      <th>Category</th>\n",
       "      <th>CategoryId</th>\n",
       "    </tr>\n",
       "  </thead>\n",
       "  <tbody>\n",
       "    <tr>\n",
       "      <th>0</th>\n",
       "      <td>CRIME</td>\n",
       "      <td>0</td>\n",
       "    </tr>\n",
       "    <tr>\n",
       "      <th>1</th>\n",
       "      <td>ENTERTAINMENT</td>\n",
       "      <td>1</td>\n",
       "    </tr>\n",
       "    <tr>\n",
       "      <th>11</th>\n",
       "      <td>WORLD NEWS</td>\n",
       "      <td>2</td>\n",
       "    </tr>\n",
       "    <tr>\n",
       "      <th>12</th>\n",
       "      <td>IMPACT</td>\n",
       "      <td>3</td>\n",
       "    </tr>\n",
       "    <tr>\n",
       "      <th>13</th>\n",
       "      <td>POLITICS</td>\n",
       "      <td>4</td>\n",
       "    </tr>\n",
       "    <tr>\n",
       "      <th>20</th>\n",
       "      <td>WEIRD NEWS</td>\n",
       "      <td>5</td>\n",
       "    </tr>\n",
       "    <tr>\n",
       "      <th>27</th>\n",
       "      <td>BLACK VOICES</td>\n",
       "      <td>6</td>\n",
       "    </tr>\n",
       "    <tr>\n",
       "      <th>35</th>\n",
       "      <td>WOMEN</td>\n",
       "      <td>7</td>\n",
       "    </tr>\n",
       "    <tr>\n",
       "      <th>37</th>\n",
       "      <td>COMEDY</td>\n",
       "      <td>8</td>\n",
       "    </tr>\n",
       "    <tr>\n",
       "      <th>50</th>\n",
       "      <td>ENTERTAINMENT</td>\n",
       "      <td>9</td>\n",
       "    </tr>\n",
       "    <tr>\n",
       "      <th>67</th>\n",
       "      <td>QUEER VOICES</td>\n",
       "      <td>10</td>\n",
       "    </tr>\n",
       "    <tr>\n",
       "      <th>78</th>\n",
       "      <td>SPORTS</td>\n",
       "      <td>11</td>\n",
       "    </tr>\n",
       "    <tr>\n",
       "      <th>85</th>\n",
       "      <td>BUSINESS</td>\n",
       "      <td>12</td>\n",
       "    </tr>\n",
       "    <tr>\n",
       "      <th>109</th>\n",
       "      <td>ENTERTAINMENT</td>\n",
       "      <td>13</td>\n",
       "    </tr>\n",
       "    <tr>\n",
       "      <th>125</th>\n",
       "      <td>TRAVEL</td>\n",
       "      <td>14</td>\n",
       "    </tr>\n",
       "    <tr>\n",
       "      <th>126</th>\n",
       "      <td>MEDIA</td>\n",
       "      <td>15</td>\n",
       "    </tr>\n",
       "    <tr>\n",
       "      <th>136</th>\n",
       "      <td>TECH</td>\n",
       "      <td>16</td>\n",
       "    </tr>\n",
       "    <tr>\n",
       "      <th>145</th>\n",
       "      <td>RELIGION</td>\n",
       "      <td>17</td>\n",
       "    </tr>\n",
       "    <tr>\n",
       "      <th>154</th>\n",
       "      <td>SCIENCE</td>\n",
       "      <td>18</td>\n",
       "    </tr>\n",
       "    <tr>\n",
       "      <th>159</th>\n",
       "      <td>Black Voices</td>\n",
       "      <td>19</td>\n",
       "    </tr>\n",
       "    <tr>\n",
       "      <th>161</th>\n",
       "      <td>Wold News</td>\n",
       "      <td>20</td>\n",
       "    </tr>\n",
       "  </tbody>\n",
       "</table>\n",
       "</div>"
      ],
      "text/plain": [
       "           Category  CategoryId\n",
       "0             CRIME           0\n",
       "1     ENTERTAINMENT           1\n",
       "11       WORLD NEWS           2\n",
       "12           IMPACT           3\n",
       "13         POLITICS           4\n",
       "20       WEIRD NEWS           5\n",
       "27     BLACK VOICES           6\n",
       "35            WOMEN           7\n",
       "37           COMEDY           8\n",
       "50    ENTERTAINMENT           9\n",
       "67     QUEER VOICES          10\n",
       "78           SPORTS          11\n",
       "85         BUSINESS          12\n",
       "109  ENTERTAINMENT           13\n",
       "125          TRAVEL          14\n",
       "126           MEDIA          15\n",
       "136            TECH          16\n",
       "145        RELIGION          17\n",
       "154         SCIENCE          18\n",
       "159    Black Voices          19\n",
       "161       Wold News          20"
      ]
     },
     "execution_count": 105,
     "metadata": {},
     "output_type": "execute_result"
    }
   ],
   "source": [
    "# Create a new pandas dataframe \"category\", which only has unique Categories, also sorting this list in order of CategoryId values\n",
    "category = news_articles[['Category', 'CategoryId']].drop_duplicates().sort_values('CategoryId')\n",
    "category"
   ]
  },
  {
   "cell_type": "markdown",
   "metadata": {},
   "source": [
    "# show category id in dictionary form"
   ]
  },
  {
   "cell_type": "code",
   "execution_count": 106,
   "metadata": {},
   "outputs": [
    {
     "data": {
      "text/plain": [
       "{0: 'CRIME',\n",
       " 1: 'ENTERTAINMENT',\n",
       " 2: 'WORLD NEWS',\n",
       " 3: 'IMPACT',\n",
       " 4: 'POLITICS',\n",
       " 5: 'WEIRD NEWS',\n",
       " 6: 'BLACK VOICES',\n",
       " 7: 'WOMEN',\n",
       " 8: 'COMEDY',\n",
       " 9: ' ENTERTAINMENT',\n",
       " 10: 'QUEER VOICES',\n",
       " 11: 'SPORTS',\n",
       " 12: 'BUSINESS',\n",
       " 13: 'ENTERTAINMENT ',\n",
       " 14: 'TRAVEL',\n",
       " 15: 'MEDIA',\n",
       " 16: 'TECH',\n",
       " 17: 'RELIGION',\n",
       " 18: 'SCIENCE',\n",
       " 19: 'Black Voices',\n",
       " 20: 'Wold News'}"
      ]
     },
     "execution_count": 106,
     "metadata": {},
     "output_type": "execute_result"
    }
   ],
   "source": [
    "# Create a dictionary ( python datastructure - like a lookup table) that \n",
    "# can easily convert category names into category_ids and vice-versa\n",
    "category_to_id = dict(category.values)\n",
    "id_to_category = dict(category[['CategoryId', 'Category']].values)\n",
    "id_to_category"
   ]
  },
  {
   "cell_type": "markdown",
   "metadata": {},
   "source": [
    "# Convert Category names into numerical index"
   ]
  },
  {
   "cell_type": "code",
   "execution_count": 107,
   "metadata": {},
   "outputs": [
    {
     "name": "stdout",
     "output_type": "stream",
     "text": [
      "['CRIME' 'ENTERTAINMENT' 'WORLD NEWS' 'IMPACT' 'POLITICS' 'WEIRD NEWS'\n",
      " 'BLACK VOICES' 'WOMEN' 'COMEDY' ' ENTERTAINMENT' 'QUEER VOICES' 'SPORTS'\n",
      " 'BUSINESS' 'ENTERTAINMENT ' 'TRAVEL' 'MEDIA' 'TECH' 'RELIGION' 'SCIENCE'\n",
      " 'Black Voices' 'Wold News']\n"
     ]
    }
   ],
   "source": [
    "# Associate Category names with numerical index and save it in new column CategoryId\n",
    "target_category = news_articles['Category'].unique()\n",
    "print(target_category)"
   ]
  },
  {
   "cell_type": "markdown",
   "metadata": {},
   "source": [
    "# Visulaizing the category data"
   ]
  },
  {
   "cell_type": "code",
   "execution_count": 108,
   "metadata": {},
   "outputs": [
    {
     "data": {
      "text/plain": [
       "<AxesSubplot:xlabel='Category'>"
      ]
     },
     "execution_count": 108,
     "metadata": {},
     "output_type": "execute_result"
    },
    {
     "data": {
      "image/png": "[encoded data removed]",
      "text/plain": [
       "<Figure size 432x288 with 1 Axes>"
      ]
     },
     "metadata": {
      "needs_background": "light"
     },
     "output_type": "display_data"
    }
   ],
   "source": [
    "news_articles.groupby('Category').CategoryId.count().plot.bar(ylim = 0)"
   ]
  },
  {
   "cell_type": "markdown",
   "metadata": {},
   "source": [
    "# visualizing category data in numeric form"
   ]
  },
  {
   "cell_type": "code",
   "execution_count": 109,
   "metadata": {},
   "outputs": [
    {
     "data": {
      "image/png": "[encoded data removed]",
      "text/plain": [
       "<Figure size 432x288 with 1 Axes>"
      ]
     },
     "metadata": {
      "needs_background": "light"
     },
     "output_type": "display_data"
    }
   ],
   "source": [
    "import matplotlib.pyplot as plt\n",
    "import seaborn as sns\n",
    "news_articles.groupby('Category').CategoryId.value_counts().plot(kind = \"bar\")\n",
    "plt.xlabel(\"Category of data\")\n",
    "plt.title(\"Visulaize numbers of Category of data\")\n",
    "plt.show()"
   ]
  },
  {
   "cell_type": "markdown",
   "metadata": {},
   "source": [
    "# Printing text column of dataset"
   ]
  },
  {
   "cell_type": "code",
   "execution_count": 110,
   "metadata": {},
   "outputs": [
    {
     "data": {
      "text/plain": [
       "0    There Were 2 Mass Shootings In Texas Last Week...\n",
       "1    Will Smith Joins Diplo And Nicky Jam For The 2...\n",
       "2      Hugh Grant Marries For The First Time At Age 57\n",
       "3    Jim Carrey Blasts 'Castrato' Adam Schiff And D...\n",
       "4    Julianna Margulies Uses Donald Trump Poop Bags...\n",
       "5    Morgan Freeman 'Devastated' That Sexual Harass...\n",
       "6    Donald Trump Is Lovin' New McDonald's Jingle I...\n",
       "7    What To Watch On Amazon Prime That\\u2019s New ...\n",
       "8    Mike Myers Reveals He'd 'Like To' Do A Fourth ...\n",
       "9           What To Watch On Hulu That's New This Week\n",
       "Name: Headline, dtype: object"
      ]
     },
     "execution_count": 110,
     "metadata": {},
     "output_type": "execute_result"
    }
   ],
   "source": [
    "data=news_articles[\"Headline\"]\n",
    "data.head(10)"
   ]
  },
  {
   "cell_type": "markdown",
   "metadata": {},
   "source": [
    "# Printing category coulmn of dataset"
   ]
  },
  {
   "cell_type": "code",
   "execution_count": 111,
   "metadata": {},
   "outputs": [
    {
     "data": {
      "text/plain": [
       "0            CRIME\n",
       "1    ENTERTAINMENT\n",
       "2    ENTERTAINMENT\n",
       "3    ENTERTAINMENT\n",
       "4    ENTERTAINMENT\n",
       "5    ENTERTAINMENT\n",
       "6    ENTERTAINMENT\n",
       "7    ENTERTAINMENT\n",
       "8    ENTERTAINMENT\n",
       "9    ENTERTAINMENT\n",
       "Name: Category, dtype: object"
      ]
     },
     "execution_count": 111,
     "metadata": {},
     "output_type": "execute_result"
    }
   ],
   "source": [
    "category = news_articles['Category']\n",
    "category.head(10)"
   ]
  },
  {
   "cell_type": "markdown",
   "metadata": {},
   "source": [
    "# DATA PREPROCESSING"
   ]
  },
  {
   "cell_type": "code",
   "execution_count": 112,
   "metadata": {},
   "outputs": [],
   "source": [
    "#set(stopwords.words('english'))"
   ]
  },
  {
   "cell_type": "code",
   "execution_count": 113,
   "metadata": {},
   "outputs": [
    {
     "data": {
      "text/plain": [
       "'There Were 2 Mass Shootings In Texas Last Week, But Only 1 On TV'"
      ]
     },
     "execution_count": 113,
     "metadata": {},
     "output_type": "execute_result"
    }
   ],
   "source": [
    "news_articles['Headline'][0]"
   ]
  },
  {
   "cell_type": "code",
   "execution_count": 114,
   "metadata": {},
   "outputs": [
    {
     "data": {
      "text/plain": [
       "['There',\n",
       " 'Were',\n",
       " '2',\n",
       " 'Mass',\n",
       " 'Shootings',\n",
       " 'In',\n",
       " 'Texas',\n",
       " 'Last',\n",
       " 'Week',\n",
       " ',',\n",
       " 'But',\n",
       " 'Only',\n",
       " '1',\n",
       " 'On',\n",
       " 'TV']"
      ]
     },
     "execution_count": 114,
     "metadata": {},
     "output_type": "execute_result"
    }
   ],
   "source": [
    "words=word_tokenize(news_articles['Headline'][0])[:]\n",
    "words"
   ]
  },
  {
   "cell_type": "markdown",
   "metadata": {},
   "source": [
    "# Remove Comma's"
   ]
  },
  {
   "cell_type": "code",
   "execution_count": 115,
   "metadata": {},
   "outputs": [
    {
     "data": {
      "text/plain": [
       "['There',\n",
       " 'Were',\n",
       " 'Mass',\n",
       " 'Shootings',\n",
       " 'In',\n",
       " 'Texas',\n",
       " 'Last',\n",
       " 'Week',\n",
       " 'But',\n",
       " 'Only',\n",
       " 'On',\n",
       " 'TV']"
      ]
     },
     "execution_count": 115,
     "metadata": {},
     "output_type": "execute_result"
    }
   ],
   "source": [
    "alphabet=[word for word in words if word.isalpha()]\n",
    "alphabet"
   ]
  },
  {
   "cell_type": "markdown",
   "metadata": {},
   "source": [
    "# Convert in Lower Case"
   ]
  },
  {
   "cell_type": "code",
   "execution_count": 116,
   "metadata": {},
   "outputs": [
    {
     "data": {
      "text/plain": [
       "['2', 'mass', 'shootings', 'texas', 'last', 'week', ',', '1', 'tv']"
      ]
     },
     "execution_count": 116,
     "metadata": {},
     "output_type": "execute_result"
    }
   ],
   "source": [
    "stop_words = set(stopwords.words('english'))\n",
    "words=[word.lower() for word in words if word.lower() not in stop_words]\n",
    "words"
   ]
  },
  {
   "cell_type": "markdown",
   "metadata": {},
   "source": [
    "# Rejoin the Words"
   ]
  },
  {
   "cell_type": "code",
   "execution_count": 117,
   "metadata": {},
   "outputs": [
    {
     "data": {
      "text/plain": [
       "'2 mass shootings texas last week , 1 tv'"
      ]
     },
     "execution_count": 117,
     "metadata": {},
     "output_type": "execute_result"
    }
   ],
   "source": [
    "' '.join(words)"
   ]
  },
  {
   "cell_type": "markdown",
   "metadata": {},
   "source": [
    "# Combining Whole Function"
   ]
  },
  {
   "cell_type": "code",
   "execution_count": 118,
   "metadata": {},
   "outputs": [],
   "source": [
    "# Preprocess\n",
    "\n",
    "def clean_text(sent):\n",
    "  stop_words = set(stopwords.words('english'))\n",
    "\n",
    "  words = word_tokenize(sent)\n",
    "  words = [word for word in words if word.isalpha()]\n",
    "  words = [word.lower() for word in words if word.lower() not in stop_words]\n",
    "\n",
    "  return ' '.join(words)"
   ]
  },
  {
   "cell_type": "code",
   "execution_count": 119,
   "metadata": {},
   "outputs": [
    {
     "data": {
      "text/plain": [
       "'mass shootings texas last week tv'"
      ]
     },
     "execution_count": 119,
     "metadata": {},
     "output_type": "execute_result"
    }
   ],
   "source": [
    "clean_text(news_articles['Headline'][0])"
   ]
  },
  {
   "cell_type": "markdown",
   "metadata": {},
   "source": [
    "# Cleaning Text of Headline Column"
   ]
  },
  {
   "cell_type": "code",
   "execution_count": 120,
   "metadata": {},
   "outputs": [],
   "source": [
    "news_articles['Headline'] = news_articles['Headline'].apply(clean_text)"
   ]
  },
  {
   "cell_type": "code",
   "execution_count": 121,
   "metadata": {},
   "outputs": [
    {
     "data": {
      "text/html": [
       "<div>\n",
       "<style scoped>\n",
       "    .dataframe tbody tr th:only-of-type {\n",
       "        vertical-align: middle;\n",
       "    }\n",
       "\n",
       "    .dataframe tbody tr th {\n",
       "        vertical-align: top;\n",
       "    }\n",
       "\n",
       "    .dataframe thead th {\n",
       "        text-align: right;\n",
       "    }\n",
       "</style>\n",
       "<table border=\"1\" class=\"dataframe\">\n",
       "  <thead>\n",
       "    <tr style=\"text-align: right;\">\n",
       "      <th></th>\n",
       "      <th>Headline</th>\n",
       "      <th>Category</th>\n",
       "      <th>Description</th>\n",
       "      <th>CategoryId</th>\n",
       "    </tr>\n",
       "  </thead>\n",
       "  <tbody>\n",
       "    <tr>\n",
       "      <th>0</th>\n",
       "      <td>mass shootings texas last week tv</td>\n",
       "      <td>CRIME</td>\n",
       "      <td>She left her husband. He killed their children...</td>\n",
       "      <td>0</td>\n",
       "    </tr>\n",
       "    <tr>\n",
       "      <th>1</th>\n",
       "      <td>smith joins diplo nicky jam world cup official...</td>\n",
       "      <td>ENTERTAINMENT</td>\n",
       "      <td>Of course it has a song.</td>\n",
       "      <td>1</td>\n",
       "    </tr>\n",
       "    <tr>\n",
       "      <th>2</th>\n",
       "      <td>hugh grant marries first time age</td>\n",
       "      <td>ENTERTAINMENT</td>\n",
       "      <td>The actor and his longtime girlfriend Anna Ebe...</td>\n",
       "      <td>1</td>\n",
       "    </tr>\n",
       "    <tr>\n",
       "      <th>3</th>\n",
       "      <td>jim carrey blasts adam schiff democrats new ar...</td>\n",
       "      <td>ENTERTAINMENT</td>\n",
       "      <td>The actor gives Dems an ass-kicking for not fi...</td>\n",
       "      <td>1</td>\n",
       "    </tr>\n",
       "    <tr>\n",
       "      <th>4</th>\n",
       "      <td>julianna margulies uses donald trump poop bags...</td>\n",
       "      <td>ENTERTAINMENT</td>\n",
       "      <td>The \"Dietland\" actress said using the bags is ...</td>\n",
       "      <td>1</td>\n",
       "    </tr>\n",
       "  </tbody>\n",
       "</table>\n",
       "</div>"
      ],
      "text/plain": [
       "                                            Headline       Category  \\\n",
       "0                  mass shootings texas last week tv          CRIME   \n",
       "1  smith joins diplo nicky jam world cup official...  ENTERTAINMENT   \n",
       "2                  hugh grant marries first time age  ENTERTAINMENT   \n",
       "3  jim carrey blasts adam schiff democrats new ar...  ENTERTAINMENT   \n",
       "4  julianna margulies uses donald trump poop bags...  ENTERTAINMENT   \n",
       "\n",
       "                                         Description  CategoryId  \n",
       "0  She left her husband. He killed their children...           0  \n",
       "1                           Of course it has a song.           1  \n",
       "2  The actor and his longtime girlfriend Anna Ebe...           1  \n",
       "3  The actor gives Dems an ass-kicking for not fi...           1  \n",
       "4  The \"Dietland\" actress said using the bags is ...           1  "
      ]
     },
     "execution_count": 121,
     "metadata": {},
     "output_type": "execute_result"
    }
   ],
   "source": [
    "news_articles.head()"
   ]
  },
  {
   "cell_type": "code",
   "execution_count": 122,
   "metadata": {},
   "outputs": [],
   "source": [
    "data=news_articles['Headline']"
   ]
  },
  {
   "cell_type": "code",
   "execution_count": 123,
   "metadata": {},
   "outputs": [
    {
     "data": {
      "text/plain": [
       "(249, 4)"
      ]
     },
     "execution_count": 123,
     "metadata": {},
     "output_type": "execute_result"
    }
   ],
   "source": [
    "news_articles.shape"
   ]
  },
  {
   "cell_type": "markdown",
   "metadata": {},
   "source": [
    "# Lemmatizing the Words"
   ]
  },
  {
   "cell_type": "code",
   "execution_count": 124,
   "metadata": {},
   "outputs": [],
   "source": [
    "#def lemmatize_word(text):\n",
    "  #wordnet = WordNetLemmatizer()\n",
    "  #return \" \".join([wordnet.lemmatize(word) for word in text])\n",
    "#news_articles['Headline'] = news_articles['Headline'].apply(lemmatize_word)\n",
    "#news_articles['Headline'][1]"
   ]
  },
  {
   "cell_type": "markdown",
   "metadata": {},
   "source": [
    "# remove all tags"
   ]
  },
  {
   "cell_type": "code",
   "execution_count": 125,
   "metadata": {},
   "outputs": [
    {
     "data": {
      "text/plain": [
       "0                      mass shootings texas last week tv\n",
       "1      smith joins diplo nicky jam world cup official...\n",
       "2                      hugh grant marries first time age\n",
       "3      jim carrey blasts adam schiff democrats new ar...\n",
       "4      julianna margulies uses donald trump poop bags...\n",
       "                             ...                        \n",
       "244    sorry ben affleck make way justin theroux gian...\n",
       "245    hillary clinton tips russian hat trump yale co...\n",
       "246    giuliani says mueller ca talk trump trump hear...\n",
       "247    minutes reporter reveals trump chilling reason...\n",
       "248            call cops watch powerful monologue racism\n",
       "Name: Headline, Length: 249, dtype: object"
      ]
     },
     "execution_count": 125,
     "metadata": {},
     "output_type": "execute_result"
    }
   ],
   "source": [
    "import re\n",
    "def remove_tags(data):\n",
    "  remove = re.compile(r'<.*?>')\n",
    "  return re.sub(remove, '', data)\n",
    "\n",
    "news_articles['Headline'] = news_articles['Headline'].apply(remove_tags)\n",
    "news_articles['Headline'][:]"
   ]
  },
  {
   "cell_type": "markdown",
   "metadata": {},
   "source": [
    "# After Cleaning Text our Dataset"
   ]
  },
  {
   "cell_type": "code",
   "execution_count": 126,
   "metadata": {},
   "outputs": [
    {
     "data": {
      "text/html": [
       "<div>\n",
       "<style scoped>\n",
       "    .dataframe tbody tr th:only-of-type {\n",
       "        vertical-align: middle;\n",
       "    }\n",
       "\n",
       "    .dataframe tbody tr th {\n",
       "        vertical-align: top;\n",
       "    }\n",
       "\n",
       "    .dataframe thead th {\n",
       "        text-align: right;\n",
       "    }\n",
       "</style>\n",
       "<table border=\"1\" class=\"dataframe\">\n",
       "  <thead>\n",
       "    <tr style=\"text-align: right;\">\n",
       "      <th></th>\n",
       "      <th>Headline</th>\n",
       "      <th>Category</th>\n",
       "      <th>Description</th>\n",
       "      <th>CategoryId</th>\n",
       "    </tr>\n",
       "  </thead>\n",
       "  <tbody>\n",
       "    <tr>\n",
       "      <th>0</th>\n",
       "      <td>mass shootings texas last week tv</td>\n",
       "      <td>CRIME</td>\n",
       "      <td>She left her husband. He killed their children...</td>\n",
       "      <td>0</td>\n",
       "    </tr>\n",
       "    <tr>\n",
       "      <th>1</th>\n",
       "      <td>smith joins diplo nicky jam world cup official...</td>\n",
       "      <td>ENTERTAINMENT</td>\n",
       "      <td>Of course it has a song.</td>\n",
       "      <td>1</td>\n",
       "    </tr>\n",
       "    <tr>\n",
       "      <th>2</th>\n",
       "      <td>hugh grant marries first time age</td>\n",
       "      <td>ENTERTAINMENT</td>\n",
       "      <td>The actor and his longtime girlfriend Anna Ebe...</td>\n",
       "      <td>1</td>\n",
       "    </tr>\n",
       "    <tr>\n",
       "      <th>3</th>\n",
       "      <td>jim carrey blasts adam schiff democrats new ar...</td>\n",
       "      <td>ENTERTAINMENT</td>\n",
       "      <td>The actor gives Dems an ass-kicking for not fi...</td>\n",
       "      <td>1</td>\n",
       "    </tr>\n",
       "    <tr>\n",
       "      <th>4</th>\n",
       "      <td>julianna margulies uses donald trump poop bags...</td>\n",
       "      <td>ENTERTAINMENT</td>\n",
       "      <td>The \"Dietland\" actress said using the bags is ...</td>\n",
       "      <td>1</td>\n",
       "    </tr>\n",
       "    <tr>\n",
       "      <th>...</th>\n",
       "      <td>...</td>\n",
       "      <td>...</td>\n",
       "      <td>...</td>\n",
       "      <td>...</td>\n",
       "    </tr>\n",
       "    <tr>\n",
       "      <th>244</th>\n",
       "      <td>sorry ben affleck make way justin theroux gian...</td>\n",
       "      <td>ENTERTAINMENT</td>\n",
       "      <td>Ther-oh-my-God!</td>\n",
       "      <td>1</td>\n",
       "    </tr>\n",
       "    <tr>\n",
       "      <th>245</th>\n",
       "      <td>hillary clinton tips russian hat trump yale co...</td>\n",
       "      <td>POLITICS</td>\n",
       "      <td>If you can't beat 'em, join 'em,\" Clinton said...</td>\n",
       "      <td>4</td>\n",
       "    </tr>\n",
       "    <tr>\n",
       "      <th>246</th>\n",
       "      <td>giuliani says mueller ca talk trump trump hear...</td>\n",
       "      <td>POLITICS</td>\n",
       "      <td>We can't let our guy go in and be questioned w...</td>\n",
       "      <td>4</td>\n",
       "    </tr>\n",
       "    <tr>\n",
       "      <th>247</th>\n",
       "      <td>minutes reporter reveals trump chilling reason...</td>\n",
       "      <td>MEDIA</td>\n",
       "      <td>Lesley Stahl said Trump admitted that he attac...</td>\n",
       "      <td>15</td>\n",
       "    </tr>\n",
       "    <tr>\n",
       "      <th>248</th>\n",
       "      <td>call cops watch powerful monologue racism</td>\n",
       "      <td>BLACK VOICES</td>\n",
       "      <td>I hate that anyone at all might possibly be af...</td>\n",
       "      <td>6</td>\n",
       "    </tr>\n",
       "  </tbody>\n",
       "</table>\n",
       "<p>249 rows × 4 columns</p>\n",
       "</div>"
      ],
      "text/plain": [
       "                                              Headline       Category  \\\n",
       "0                    mass shootings texas last week tv          CRIME   \n",
       "1    smith joins diplo nicky jam world cup official...  ENTERTAINMENT   \n",
       "2                    hugh grant marries first time age  ENTERTAINMENT   \n",
       "3    jim carrey blasts adam schiff democrats new ar...  ENTERTAINMENT   \n",
       "4    julianna margulies uses donald trump poop bags...  ENTERTAINMENT   \n",
       "..                                                 ...            ...   \n",
       "244  sorry ben affleck make way justin theroux gian...  ENTERTAINMENT   \n",
       "245  hillary clinton tips russian hat trump yale co...       POLITICS   \n",
       "246  giuliani says mueller ca talk trump trump hear...       POLITICS   \n",
       "247  minutes reporter reveals trump chilling reason...          MEDIA   \n",
       "248          call cops watch powerful monologue racism   BLACK VOICES   \n",
       "\n",
       "                                           Description  CategoryId  \n",
       "0    She left her husband. He killed their children...           0  \n",
       "1                             Of course it has a song.           1  \n",
       "2    The actor and his longtime girlfriend Anna Ebe...           1  \n",
       "3    The actor gives Dems an ass-kicking for not fi...           1  \n",
       "4    The \"Dietland\" actress said using the bags is ...           1  \n",
       "..                                                 ...         ...  \n",
       "244                                    Ther-oh-my-God!           1  \n",
       "245  If you can't beat 'em, join 'em,\" Clinton said...           4  \n",
       "246  We can't let our guy go in and be questioned w...           4  \n",
       "247  Lesley Stahl said Trump admitted that he attac...          15  \n",
       "248  I hate that anyone at all might possibly be af...           6  \n",
       "\n",
       "[249 rows x 4 columns]"
      ]
     },
     "execution_count": 126,
     "metadata": {},
     "output_type": "execute_result"
    }
   ],
   "source": [
    "news_articles"
   ]
  },
  {
   "cell_type": "markdown",
   "metadata": {},
   "source": [
    "# Create TfidfVectorizer object"
   ]
  },
  {
   "cell_type": "code",
   "execution_count": 127,
   "metadata": {},
   "outputs": [],
   "source": [
    "# Create TfidfVectorizer object\n",
    "vectorizer = TfidfVectorizer()\n",
    "\n",
    "# Generate matrix of tf-idf vectors\n",
    "tfidf_matrix = vectorizer.fit_transform(data)"
   ]
  },
  {
   "cell_type": "code",
   "execution_count": 128,
   "metadata": {},
   "outputs": [
    {
     "data": {
      "text/plain": [
       "(249, 1272)"
      ]
     },
     "execution_count": 128,
     "metadata": {},
     "output_type": "execute_result"
    }
   ],
   "source": [
    "tfidf_matrix.shape"
   ]
  },
  {
   "cell_type": "markdown",
   "metadata": {},
   "source": [
    "# NFM for Topic Modelling"
   ]
  },
  {
   "cell_type": "markdown",
   "metadata": {},
   "source": [
    "# Build the TF-IDF Matrix"
   ]
  },
  {
   "cell_type": "code",
   "execution_count": 129,
   "metadata": {},
   "outputs": [],
   "source": [
    "# Create an NMF instance: model\n",
    "# the  components will be the topics\n",
    "model = NMF(n_components=5, random_state=5)\n",
    " \n",
    "# Fit the model to TF-IDF\n",
    "model.fit(tfidf_matrix)\n",
    " \n",
    "# Transform the TF-IDF: nmf_features\n",
    "nmf_features = model.transform(tfidf_matrix)"
   ]
  },
  {
   "cell_type": "code",
   "execution_count": 130,
   "metadata": {},
   "outputs": [
    {
     "data": {
      "text/plain": [
       "(249, 5)"
      ]
     },
     "execution_count": 130,
     "metadata": {},
     "output_type": "execute_result"
    }
   ],
   "source": [
    "nmf_features.shape"
   ]
  },
  {
   "cell_type": "code",
   "execution_count": 131,
   "metadata": {},
   "outputs": [
    {
     "data": {
      "text/plain": [
       "(5, 1272)"
      ]
     },
     "execution_count": 131,
     "metadata": {},
     "output_type": "execute_result"
    }
   ],
   "source": [
    "model.components_.shape"
   ]
  },
  {
   "cell_type": "code",
   "execution_count": 132,
   "metadata": {},
   "outputs": [
    {
     "data": {
      "text/html": [
       "<div>\n",
       "<style scoped>\n",
       "    .dataframe tbody tr th:only-of-type {\n",
       "        vertical-align: middle;\n",
       "    }\n",
       "\n",
       "    .dataframe tbody tr th {\n",
       "        vertical-align: top;\n",
       "    }\n",
       "\n",
       "    .dataframe thead th {\n",
       "        text-align: right;\n",
       "    }\n",
       "</style>\n",
       "<table border=\"1\" class=\"dataframe\">\n",
       "  <thead>\n",
       "    <tr style=\"text-align: right;\">\n",
       "      <th></th>\n",
       "      <th>abandons</th>\n",
       "      <th>abortion</th>\n",
       "      <th>abrams</th>\n",
       "      <th>abroad</th>\n",
       "      <th>abruptly</th>\n",
       "      <th>abuse</th>\n",
       "      <th>abused</th>\n",
       "      <th>access</th>\n",
       "      <th>accessing</th>\n",
       "      <th>accident</th>\n",
       "      <th>...</th>\n",
       "      <th>would</th>\n",
       "      <th>writer</th>\n",
       "      <th>writers</th>\n",
       "      <th>yacht</th>\n",
       "      <th>yale</th>\n",
       "      <th>year</th>\n",
       "      <th>yet</th>\n",
       "      <th>york</th>\n",
       "      <th>youth</th>\n",
       "      <th>zinke</th>\n",
       "    </tr>\n",
       "  </thead>\n",
       "  <tbody>\n",
       "    <tr>\n",
       "      <th>0</th>\n",
       "      <td>0.001134</td>\n",
       "      <td>0.000667</td>\n",
       "      <td>0.000000</td>\n",
       "      <td>0.002220</td>\n",
       "      <td>0.12245</td>\n",
       "      <td>0.000000</td>\n",
       "      <td>0.000000</td>\n",
       "      <td>0.000000</td>\n",
       "      <td>0.000000</td>\n",
       "      <td>0.0</td>\n",
       "      <td>...</td>\n",
       "      <td>0.000000</td>\n",
       "      <td>0.000332</td>\n",
       "      <td>0.000000</td>\n",
       "      <td>0.000000</td>\n",
       "      <td>0.001155</td>\n",
       "      <td>0.000000</td>\n",
       "      <td>0.000000</td>\n",
       "      <td>0.000000</td>\n",
       "      <td>0.000000</td>\n",
       "      <td>0.000878</td>\n",
       "    </tr>\n",
       "    <tr>\n",
       "      <th>1</th>\n",
       "      <td>0.001257</td>\n",
       "      <td>0.075417</td>\n",
       "      <td>0.000000</td>\n",
       "      <td>0.023956</td>\n",
       "      <td>0.00000</td>\n",
       "      <td>0.005608</td>\n",
       "      <td>0.002011</td>\n",
       "      <td>0.009250</td>\n",
       "      <td>0.001607</td>\n",
       "      <td>0.0</td>\n",
       "      <td>...</td>\n",
       "      <td>0.000000</td>\n",
       "      <td>0.034509</td>\n",
       "      <td>0.000554</td>\n",
       "      <td>0.000000</td>\n",
       "      <td>0.024829</td>\n",
       "      <td>0.002267</td>\n",
       "      <td>0.001201</td>\n",
       "      <td>0.048453</td>\n",
       "      <td>0.002252</td>\n",
       "      <td>0.002886</td>\n",
       "    </tr>\n",
       "    <tr>\n",
       "      <th>2</th>\n",
       "      <td>0.000215</td>\n",
       "      <td>0.000000</td>\n",
       "      <td>0.000000</td>\n",
       "      <td>0.000000</td>\n",
       "      <td>0.00000</td>\n",
       "      <td>0.046381</td>\n",
       "      <td>0.000000</td>\n",
       "      <td>0.000000</td>\n",
       "      <td>0.000000</td>\n",
       "      <td>0.0</td>\n",
       "      <td>...</td>\n",
       "      <td>0.078034</td>\n",
       "      <td>0.000000</td>\n",
       "      <td>0.000000</td>\n",
       "      <td>0.006582</td>\n",
       "      <td>0.000000</td>\n",
       "      <td>0.000000</td>\n",
       "      <td>0.002033</td>\n",
       "      <td>0.000000</td>\n",
       "      <td>0.000000</td>\n",
       "      <td>0.000000</td>\n",
       "    </tr>\n",
       "    <tr>\n",
       "      <th>3</th>\n",
       "      <td>0.000000</td>\n",
       "      <td>0.000000</td>\n",
       "      <td>0.000000</td>\n",
       "      <td>0.000000</td>\n",
       "      <td>0.00000</td>\n",
       "      <td>0.016507</td>\n",
       "      <td>0.000011</td>\n",
       "      <td>0.000000</td>\n",
       "      <td>0.006628</td>\n",
       "      <td>0.0</td>\n",
       "      <td>...</td>\n",
       "      <td>0.000000</td>\n",
       "      <td>0.007240</td>\n",
       "      <td>0.000000</td>\n",
       "      <td>0.014297</td>\n",
       "      <td>0.000000</td>\n",
       "      <td>0.002696</td>\n",
       "      <td>0.000000</td>\n",
       "      <td>0.000000</td>\n",
       "      <td>0.000000</td>\n",
       "      <td>0.007831</td>\n",
       "    </tr>\n",
       "    <tr>\n",
       "      <th>4</th>\n",
       "      <td>0.002146</td>\n",
       "      <td>0.019600</td>\n",
       "      <td>0.104921</td>\n",
       "      <td>0.011233</td>\n",
       "      <td>0.00000</td>\n",
       "      <td>0.003625</td>\n",
       "      <td>0.005786</td>\n",
       "      <td>0.000261</td>\n",
       "      <td>0.000183</td>\n",
       "      <td>0.0</td>\n",
       "      <td>...</td>\n",
       "      <td>0.008298</td>\n",
       "      <td>0.000000</td>\n",
       "      <td>0.000003</td>\n",
       "      <td>0.000000</td>\n",
       "      <td>0.000000</td>\n",
       "      <td>0.005553</td>\n",
       "      <td>0.000000</td>\n",
       "      <td>0.000000</td>\n",
       "      <td>0.003152</td>\n",
       "      <td>0.000023</td>\n",
       "    </tr>\n",
       "  </tbody>\n",
       "</table>\n",
       "<p>5 rows × 1272 columns</p>\n",
       "</div>"
      ],
      "text/plain": [
       "   abandons  abortion    abrams    abroad  abruptly     abuse    abused  \\\n",
       "0  0.001134  0.000667  0.000000  0.002220   0.12245  0.000000  0.000000   \n",
       "1  0.001257  0.075417  0.000000  0.023956   0.00000  0.005608  0.002011   \n",
       "2  0.000215  0.000000  0.000000  0.000000   0.00000  0.046381  0.000000   \n",
       "3  0.000000  0.000000  0.000000  0.000000   0.00000  0.016507  0.000011   \n",
       "4  0.002146  0.019600  0.104921  0.011233   0.00000  0.003625  0.005786   \n",
       "\n",
       "     access  accessing  accident  ...     would    writer   writers     yacht  \\\n",
       "0  0.000000   0.000000       0.0  ...  0.000000  0.000332  0.000000  0.000000   \n",
       "1  0.009250   0.001607       0.0  ...  0.000000  0.034509  0.000554  0.000000   \n",
       "2  0.000000   0.000000       0.0  ...  0.078034  0.000000  0.000000  0.006582   \n",
       "3  0.000000   0.006628       0.0  ...  0.000000  0.007240  0.000000  0.014297   \n",
       "4  0.000261   0.000183       0.0  ...  0.008298  0.000000  0.000003  0.000000   \n",
       "\n",
       "       yale      year       yet      york     youth     zinke  \n",
       "0  0.001155  0.000000  0.000000  0.000000  0.000000  0.000878  \n",
       "1  0.024829  0.002267  0.001201  0.048453  0.002252  0.002886  \n",
       "2  0.000000  0.000000  0.002033  0.000000  0.000000  0.000000  \n",
       "3  0.000000  0.002696  0.000000  0.000000  0.000000  0.007831  \n",
       "4  0.000000  0.005553  0.000000  0.000000  0.003152  0.000023  \n",
       "\n",
       "[5 rows x 1272 columns]"
      ]
     },
     "execution_count": 132,
     "metadata": {},
     "output_type": "execute_result"
    }
   ],
   "source": [
    "# Create a DataFrame: components_df\n",
    "components_df = pd.DataFrame(model.components_, columns=vectorizer.get_feature_names())\n",
    "components_df"
   ]
  },
  {
   "cell_type": "code",
   "execution_count": 133,
   "metadata": {},
   "outputs": [],
   "source": [
    "#for topic in range(components_df.shape[0]):\n",
    "    #tmp = components_df.iloc[topic]\n",
    "    #print(f'For topic {topic+1} the words with the highest value are:')\n",
    "    #print(tmp.nlargest(5))\n",
    "    #print('\\n')"
   ]
  },
  {
   "cell_type": "code",
   "execution_count": 134,
   "metadata": {},
   "outputs": [
    {
     "data": {
      "text/plain": [
       "array([[0., 0., 0., ..., 0., 0., 0.],\n",
       "       [0., 0., 0., ..., 0., 0., 0.],\n",
       "       [0., 0., 0., ..., 0., 0., 0.],\n",
       "       ...,\n",
       "       [0., 0., 0., ..., 0., 0., 0.],\n",
       "       [0., 0., 0., ..., 0., 0., 0.],\n",
       "       [0., 0., 0., ..., 0., 0., 0.]])"
      ]
     },
     "execution_count": 134,
     "metadata": {},
     "output_type": "execute_result"
    }
   ],
   "source": [
    "tfidf_matrix[:].toarray()"
   ]
  },
  {
   "cell_type": "code",
   "execution_count": 135,
   "metadata": {},
   "outputs": [
    {
     "data": {
      "text/plain": [
       "['abandons',\n",
       " 'abortion',\n",
       " 'abrams',\n",
       " 'abroad',\n",
       " 'abruptly',\n",
       " 'abuse',\n",
       " 'abused',\n",
       " 'access',\n",
       " 'accessing',\n",
       " 'accident',\n",
       " 'accusations',\n",
       " 'accuse',\n",
       " 'accused',\n",
       " 'accuser',\n",
       " 'accusers',\n",
       " 'accuses',\n",
       " 'aclu',\n",
       " 'act',\n",
       " 'action',\n",
       " 'ad',\n",
       " 'adam',\n",
       " 'adding',\n",
       " 'addressed',\n",
       " 'admits',\n",
       " 'ads',\n",
       " 'adult',\n",
       " 'advances',\n",
       " 'advice',\n",
       " 'adviser',\n",
       " 'advocate',\n",
       " 'affected',\n",
       " 'affleck',\n",
       " 'age',\n",
       " 'agent',\n",
       " 'agree',\n",
       " 'agrees',\n",
       " 'aim',\n",
       " 'alabama',\n",
       " 'album',\n",
       " 'alex',\n",
       " 'alexa',\n",
       " 'allegations',\n",
       " 'alleged',\n",
       " 'allegedly',\n",
       " 'allen',\n",
       " 'ally',\n",
       " 'alone',\n",
       " 'already',\n",
       " 'always',\n",
       " 'amazon',\n",
       " 'amendment',\n",
       " 'america',\n",
       " 'american',\n",
       " 'americans',\n",
       " 'amid',\n",
       " 'amtrak',\n",
       " 'amy',\n",
       " 'andrew',\n",
       " 'andy',\n",
       " 'animal',\n",
       " 'anna',\n",
       " 'anniversary',\n",
       " 'answers',\n",
       " 'anthem',\n",
       " 'apologize',\n",
       " 'apologizing',\n",
       " 'apparently',\n",
       " 'archbishop',\n",
       " 'ariana',\n",
       " 'arizona',\n",
       " 'arrested',\n",
       " 'artist',\n",
       " 'artwork',\n",
       " 'ashton',\n",
       " 'ask',\n",
       " 'asked',\n",
       " 'assault',\n",
       " 'assaults',\n",
       " 'asteroid',\n",
       " 'athletes',\n",
       " 'attacks',\n",
       " 'attended',\n",
       " 'attending',\n",
       " 'attorney',\n",
       " 'austin',\n",
       " 'australian',\n",
       " 'authorities',\n",
       " 'auto',\n",
       " 'awards',\n",
       " 'baby',\n",
       " 'back',\n",
       " 'bad',\n",
       " 'baffles',\n",
       " 'bag',\n",
       " 'bags',\n",
       " 'ball',\n",
       " 'ban',\n",
       " 'bans',\n",
       " 'baptist',\n",
       " 'barack',\n",
       " 'barbados',\n",
       " 'basically',\n",
       " 'bathroom',\n",
       " 'bayer',\n",
       " 'becomes',\n",
       " 'bee',\n",
       " 'behavior',\n",
       " 'believe',\n",
       " 'ben',\n",
       " 'berk',\n",
       " 'bet',\n",
       " 'betsy',\n",
       " 'bid',\n",
       " 'biggest',\n",
       " 'bill',\n",
       " 'billboard',\n",
       " 'bills',\n",
       " 'birth',\n",
       " 'bishop',\n",
       " 'bit',\n",
       " 'black',\n",
       " 'blaine',\n",
       " 'blake',\n",
       " 'blamed',\n",
       " 'blaming',\n",
       " 'blasts',\n",
       " 'blocked',\n",
       " 'blocking',\n",
       " 'boba',\n",
       " 'bobby',\n",
       " 'bomb',\n",
       " 'book',\n",
       " 'booyah',\n",
       " 'border',\n",
       " 'boseman',\n",
       " 'bots',\n",
       " 'bouncing',\n",
       " 'boxer',\n",
       " 'boycott',\n",
       " 'boys',\n",
       " 'brad',\n",
       " 'brandi',\n",
       " 'breathless',\n",
       " 'brexit',\n",
       " 'briefing',\n",
       " 'brought',\n",
       " 'brush',\n",
       " 'brynn',\n",
       " 'bumper',\n",
       " 'burlesque',\n",
       " 'business',\n",
       " 'button',\n",
       " 'buys',\n",
       " 'ca',\n",
       " 'cake',\n",
       " 'call',\n",
       " 'called',\n",
       " 'calls',\n",
       " 'cameo',\n",
       " 'campaign',\n",
       " 'campaigns',\n",
       " 'canada',\n",
       " 'canceling',\n",
       " 'cancellation',\n",
       " 'cancels',\n",
       " 'candidate',\n",
       " 'car',\n",
       " 'care',\n",
       " 'carrey',\n",
       " 'cartelli',\n",
       " 'cat',\n",
       " 'catholic',\n",
       " 'censors',\n",
       " 'census',\n",
       " 'center',\n",
       " 'ceo',\n",
       " 'chadwick',\n",
       " 'chairman',\n",
       " 'charge',\n",
       " 'charges',\n",
       " 'chastain',\n",
       " 'cheek',\n",
       " 'cheer',\n",
       " 'chews',\n",
       " 'child',\n",
       " 'childbirth',\n",
       " 'children',\n",
       " 'chilling',\n",
       " 'china',\n",
       " 'chinese',\n",
       " 'chris',\n",
       " 'chrissy',\n",
       " 'christian',\n",
       " 'christians',\n",
       " 'christopher',\n",
       " 'church',\n",
       " 'city',\n",
       " 'civil',\n",
       " 'claim',\n",
       " 'claims',\n",
       " 'clarke',\n",
       " 'clarkson',\n",
       " 'classified',\n",
       " 'clear',\n",
       " 'clearance',\n",
       " 'climate',\n",
       " 'clinton',\n",
       " 'coach',\n",
       " 'coast',\n",
       " 'coat',\n",
       " 'cohen',\n",
       " 'coke',\n",
       " 'colbert',\n",
       " 'colin',\n",
       " 'comedy',\n",
       " 'coming',\n",
       " 'commencement',\n",
       " 'compares',\n",
       " 'complaints',\n",
       " 'conan',\n",
       " 'concerned',\n",
       " 'confidential',\n",
       " 'confirms',\n",
       " 'congressional',\n",
       " 'congressmen',\n",
       " 'conservation',\n",
       " 'conservatives',\n",
       " 'considered',\n",
       " 'conspiracy',\n",
       " 'continue',\n",
       " 'contributions',\n",
       " 'control',\n",
       " 'conversation',\n",
       " 'convicted',\n",
       " 'cooperating',\n",
       " 'cop',\n",
       " 'cops',\n",
       " 'corden',\n",
       " 'cost',\n",
       " 'could',\n",
       " 'count',\n",
       " 'country',\n",
       " 'coup',\n",
       " 'court',\n",
       " 'cover',\n",
       " 'covering',\n",
       " 'crack',\n",
       " 'crackdown',\n",
       " 'crash',\n",
       " 'creator',\n",
       " 'creators',\n",
       " 'crimes',\n",
       " 'criminalized',\n",
       " 'critically',\n",
       " 'critics',\n",
       " 'cross',\n",
       " 'crowd',\n",
       " 'culture',\n",
       " 'cum',\n",
       " 'cuomo',\n",
       " 'cup',\n",
       " 'curbs',\n",
       " 'curry',\n",
       " 'cute',\n",
       " 'cutest',\n",
       " 'cynthia',\n",
       " 'dad',\n",
       " 'daily',\n",
       " 'damaging',\n",
       " 'dame',\n",
       " 'dances',\n",
       " 'dancing',\n",
       " 'daniels',\n",
       " 'dared',\n",
       " 'dave',\n",
       " 'david',\n",
       " 'davidson',\n",
       " 'davis',\n",
       " 'day',\n",
       " 'de',\n",
       " 'deal',\n",
       " 'death',\n",
       " 'debate',\n",
       " 'debra',\n",
       " 'declared',\n",
       " 'defamation',\n",
       " 'defeats',\n",
       " 'defend',\n",
       " 'defends',\n",
       " 'definition',\n",
       " 'degeneres',\n",
       " 'delivered',\n",
       " 'demeaning',\n",
       " 'democratic',\n",
       " 'democrats',\n",
       " 'demolishes',\n",
       " 'denied',\n",
       " 'desk',\n",
       " 'detonate',\n",
       " 'device',\n",
       " 'devin',\n",
       " 'devos',\n",
       " 'dies',\n",
       " 'different',\n",
       " 'diplo',\n",
       " 'diplomacy',\n",
       " 'discovers',\n",
       " 'discusses',\n",
       " 'disney',\n",
       " 'district',\n",
       " 'dmv',\n",
       " 'dna',\n",
       " 'documents',\n",
       " 'dog',\n",
       " 'dogs',\n",
       " 'doj',\n",
       " 'dolezal',\n",
       " 'donald',\n",
       " 'donates',\n",
       " 'door',\n",
       " 'doorstep',\n",
       " 'drag',\n",
       " 'draining',\n",
       " 'drama',\n",
       " 'dream',\n",
       " 'dropped',\n",
       " 'drops',\n",
       " 'drugging',\n",
       " 'easier',\n",
       " 'eavesdropped',\n",
       " 'edward',\n",
       " 'elba',\n",
       " 'elections',\n",
       " 'elects',\n",
       " 'ellen',\n",
       " 'else',\n",
       " 'emails',\n",
       " 'embarrassing',\n",
       " 'emilia',\n",
       " 'employer',\n",
       " 'endorse',\n",
       " 'endorsement',\n",
       " 'enough',\n",
       " 'entertaining',\n",
       " 'entitled',\n",
       " 'entries',\n",
       " 'europe',\n",
       " 'even',\n",
       " 'ever',\n",
       " 'every',\n",
       " 'exchange',\n",
       " 'exclude',\n",
       " 'exclusion',\n",
       " 'execute',\n",
       " 'executive',\n",
       " 'exist',\n",
       " 'exit',\n",
       " 'expected',\n",
       " 'experience',\n",
       " 'explores',\n",
       " 'exposes',\n",
       " 'expression',\n",
       " 'eye',\n",
       " 'facebook',\n",
       " 'faced',\n",
       " 'faces',\n",
       " 'faked',\n",
       " 'fame',\n",
       " 'families',\n",
       " 'family',\n",
       " 'fan',\n",
       " 'fans',\n",
       " 'far',\n",
       " 'farenthold',\n",
       " 'farrow',\n",
       " 'fatal',\n",
       " 'fatally',\n",
       " 'father',\n",
       " 'favorite',\n",
       " 'fbi',\n",
       " 'federal',\n",
       " 'felony',\n",
       " 'female',\n",
       " 'females',\n",
       " 'fenty',\n",
       " 'fett',\n",
       " 'field',\n",
       " 'fight',\n",
       " 'fighter',\n",
       " 'fighting',\n",
       " 'film',\n",
       " 'finale',\n",
       " 'finds',\n",
       " 'fine',\n",
       " 'finishing',\n",
       " 'fire',\n",
       " 'firearms',\n",
       " 'first',\n",
       " 'fish',\n",
       " 'flaw',\n",
       " 'flight',\n",
       " 'form',\n",
       " 'forum',\n",
       " 'found',\n",
       " 'fourth',\n",
       " 'francis',\n",
       " 'fraud',\n",
       " 'fred',\n",
       " 'freedom',\n",
       " 'freeman',\n",
       " 'front',\n",
       " 'fund',\n",
       " 'funniest',\n",
       " 'funny',\n",
       " 'gabbard',\n",
       " 'game',\n",
       " 'gap',\n",
       " 'gave',\n",
       " 'gavin',\n",
       " 'gay',\n",
       " 'genocide',\n",
       " 'george',\n",
       " 'georgia',\n",
       " 'get',\n",
       " 'gets',\n",
       " 'getting',\n",
       " 'giant',\n",
       " 'gifts',\n",
       " 'gina',\n",
       " 'girlfriend',\n",
       " 'girls',\n",
       " 'giuliani',\n",
       " 'gives',\n",
       " 'giving',\n",
       " 'glass',\n",
       " 'glover',\n",
       " 'god',\n",
       " 'going',\n",
       " 'golf',\n",
       " 'gop',\n",
       " 'got',\n",
       " 'government',\n",
       " 'governor',\n",
       " 'graduation',\n",
       " 'grande',\n",
       " 'grant',\n",
       " 'great',\n",
       " 'greek',\n",
       " 'grills',\n",
       " 'grimm',\n",
       " 'grohl',\n",
       " 'grooming',\n",
       " 'groups',\n",
       " 'guest',\n",
       " 'gun',\n",
       " 'gwyneth',\n",
       " 'hairbrush',\n",
       " 'hall',\n",
       " 'handgun',\n",
       " 'hands',\n",
       " 'happen',\n",
       " 'happens',\n",
       " 'happy',\n",
       " 'harassment',\n",
       " 'harder',\n",
       " 'harry',\n",
       " 'harvey',\n",
       " 'hat',\n",
       " 'hate',\n",
       " 'hats',\n",
       " 'haunted',\n",
       " 'hawaii',\n",
       " 'heads',\n",
       " 'hearing',\n",
       " 'hears',\n",
       " 'heartfelt',\n",
       " 'heated',\n",
       " 'help',\n",
       " 'hemsworth',\n",
       " 'hewitt',\n",
       " 'high',\n",
       " 'highlighter',\n",
       " 'highlighters',\n",
       " 'hilarious',\n",
       " 'hilariously',\n",
       " 'hillary',\n",
       " 'hired',\n",
       " 'historic',\n",
       " 'history',\n",
       " 'holland',\n",
       " 'hollywood',\n",
       " 'holocaust',\n",
       " 'home',\n",
       " 'honor',\n",
       " 'hook',\n",
       " 'hospital',\n",
       " 'host',\n",
       " 'house',\n",
       " 'houston',\n",
       " 'hugh',\n",
       " 'hulu',\n",
       " 'humanity',\n",
       " 'humor',\n",
       " 'hunchback',\n",
       " 'hurdles',\n",
       " 'husband',\n",
       " 'ice',\n",
       " 'idris',\n",
       " 'ignoring',\n",
       " 'illegally',\n",
       " 'illness',\n",
       " 'immigrant',\n",
       " 'immigrants',\n",
       " 'immigration',\n",
       " 'impaled',\n",
       " 'import',\n",
       " 'impressions',\n",
       " 'inappropriate',\n",
       " 'include',\n",
       " 'included',\n",
       " 'inconvenient',\n",
       " 'increasingly',\n",
       " 'incredible',\n",
       " 'indian',\n",
       " 'indiana',\n",
       " 'indictment',\n",
       " 'industry',\n",
       " 'infinity',\n",
       " 'info',\n",
       " 'informant',\n",
       " 'injured',\n",
       " 'inside',\n",
       " 'instagram',\n",
       " 'insults',\n",
       " 'interests',\n",
       " 'internships',\n",
       " 'interstellar',\n",
       " 'intervene',\n",
       " 'interview',\n",
       " 'intimate',\n",
       " 'introduced',\n",
       " 'investigation',\n",
       " 'invited',\n",
       " 'iran',\n",
       " 'iraqi',\n",
       " 'ireland',\n",
       " 'irish',\n",
       " 'irregularities',\n",
       " 'italy',\n",
       " 'jack',\n",
       " 'jake',\n",
       " 'jam',\n",
       " 'james',\n",
       " 'jared',\n",
       " 'jeffrey',\n",
       " 'jerry',\n",
       " 'jessica',\n",
       " 'jesus',\n",
       " 'jets',\n",
       " 'jim',\n",
       " 'jimmy',\n",
       " 'jingle',\n",
       " 'job',\n",
       " 'jobs',\n",
       " 'john',\n",
       " 'johnson',\n",
       " 'joins',\n",
       " 'jones',\n",
       " 'jong',\n",
       " 'joy',\n",
       " 'jr',\n",
       " 'judge',\n",
       " 'julia',\n",
       " 'julianna',\n",
       " 'justin',\n",
       " 'kaepernick',\n",
       " 'kanye',\n",
       " 'karaoke',\n",
       " 'kardashian',\n",
       " 'katy',\n",
       " 'keep',\n",
       " 'kelly',\n",
       " 'kendrick',\n",
       " 'kentucky',\n",
       " 'kerr',\n",
       " 'key',\n",
       " 'keys',\n",
       " 'khalid',\n",
       " 'kids',\n",
       " 'kill',\n",
       " 'killed',\n",
       " 'kim',\n",
       " 'kimmel',\n",
       " 'king',\n",
       " 'kneeling',\n",
       " 'knife',\n",
       " 'know',\n",
       " 'knows',\n",
       " 'koch',\n",
       " 'konigsberg',\n",
       " 'korea',\n",
       " 'korean',\n",
       " 'kournikova',\n",
       " 'kushner',\n",
       " 'kutcher',\n",
       " 'lahren',\n",
       " 'lamar',\n",
       " 'land',\n",
       " 'lands',\n",
       " 'landslide',\n",
       " 'last',\n",
       " 'late',\n",
       " 'latest',\n",
       " 'laude',\n",
       " 'launches',\n",
       " 'laws',\n",
       " 'lawsuit',\n",
       " 'lawyer',\n",
       " 'leader',\n",
       " 'leaders',\n",
       " 'least',\n",
       " 'lee',\n",
       " 'legacy',\n",
       " 'legalizing',\n",
       " 'leon',\n",
       " 'less',\n",
       " 'lets',\n",
       " 'letter',\n",
       " 'level',\n",
       " 'levine',\n",
       " 'lgbtq',\n",
       " 'liar',\n",
       " 'liberal',\n",
       " 'liberalize',\n",
       " 'license',\n",
       " 'life',\n",
       " 'like',\n",
       " 'lip',\n",
       " 'list',\n",
       " 'living',\n",
       " 'lobbyist',\n",
       " 'loch',\n",
       " 'long',\n",
       " 'looks',\n",
       " 'loses',\n",
       " 'losing',\n",
       " 'lot',\n",
       " 'louis',\n",
       " 'lourdes',\n",
       " 'love',\n",
       " 'loves',\n",
       " 'lovin',\n",
       " 'lucy',\n",
       " 'lupe',\n",
       " 'mac',\n",
       " 'machine',\n",
       " 'machines',\n",
       " 'made',\n",
       " 'madonna',\n",
       " 'maduro',\n",
       " 'major',\n",
       " 'majority',\n",
       " 'make',\n",
       " 'makeover',\n",
       " 'makers',\n",
       " 'makes',\n",
       " 'male',\n",
       " 'man',\n",
       " 'map',\n",
       " 'march',\n",
       " 'margulies',\n",
       " 'mark',\n",
       " 'market',\n",
       " 'marketing',\n",
       " 'marriage',\n",
       " 'marries',\n",
       " 'marvel',\n",
       " 'maryland',\n",
       " 'mass',\n",
       " 'masterpiece',\n",
       " 'may',\n",
       " 'maybe',\n",
       " 'mayer',\n",
       " 'mayor',\n",
       " 'mcbath',\n",
       " 'mcdonald',\n",
       " 'mcgrath',\n",
       " 'measures',\n",
       " 'meeting',\n",
       " 'meets',\n",
       " 'meghan',\n",
       " 'member',\n",
       " 'memoir',\n",
       " 'memory',\n",
       " 'men',\n",
       " 'menaced',\n",
       " 'mendes',\n",
       " 'mental',\n",
       " 'mercilessly',\n",
       " 'merge',\n",
       " 'met',\n",
       " 'meyers',\n",
       " 'mia',\n",
       " 'michael',\n",
       " 'michelle',\n",
       " 'microphones',\n",
       " 'migrant',\n",
       " 'mike',\n",
       " 'militia',\n",
       " 'millennial',\n",
       " 'miller',\n",
       " 'million',\n",
       " 'minister',\n",
       " 'minutes',\n",
       " 'missed',\n",
       " 'missile',\n",
       " 'mob',\n",
       " 'mock',\n",
       " 'moderate',\n",
       " 'moment',\n",
       " 'monologue',\n",
       " 'monsanto',\n",
       " 'monster',\n",
       " 'montana',\n",
       " 'month',\n",
       " 'moody',\n",
       " 'morgan',\n",
       " 'moses',\n",
       " 'mostly',\n",
       " 'mother',\n",
       " 'movie',\n",
       " 'movies',\n",
       " 'msnbc',\n",
       " 'much',\n",
       " 'mueller',\n",
       " 'muscles',\n",
       " 'music',\n",
       " 'muslim',\n",
       " 'myers',\n",
       " 'mystery',\n",
       " 'national',\n",
       " 'near',\n",
       " 'need',\n",
       " 'neglect',\n",
       " 'ness',\n",
       " 'netflix',\n",
       " 'network',\n",
       " 'neurosurgeon',\n",
       " 'never',\n",
       " 'new',\n",
       " 'news',\n",
       " 'next',\n",
       " 'nfl',\n",
       " 'nicky',\n",
       " 'nicolas',\n",
       " 'nigerian',\n",
       " 'night',\n",
       " 'niro',\n",
       " 'nixon',\n",
       " 'noah',\n",
       " 'nobu',\n",
       " 'nod',\n",
       " 'north',\n",
       " 'notaro',\n",
       " 'nothing',\n",
       " 'notre',\n",
       " 'nra',\n",
       " 'nuclear',\n",
       " 'nyc',\n",
       " 'nypd',\n",
       " 'obama',\n",
       " 'obamas',\n",
       " 'obtained',\n",
       " 'octopus',\n",
       " 'offer',\n",
       " 'official',\n",
       " 'officials',\n",
       " 'ohio',\n",
       " 'older',\n",
       " 'one',\n",
       " 'onstage',\n",
       " 'open',\n",
       " 'opening',\n",
       " 'opens',\n",
       " 'orders',\n",
       " 'ortiz',\n",
       " 'others',\n",
       " 'pack',\n",
       " 'paltrow',\n",
       " 'panther',\n",
       " 'paper',\n",
       " 'pardoned',\n",
       " 'pardons',\n",
       " 'parenthood',\n",
       " 'parents',\n",
       " 'park',\n",
       " 'parkland',\n",
       " 'parliamentary',\n",
       " 'parties',\n",
       " 'partner',\n",
       " 'party',\n",
       " 'passengers',\n",
       " 'passion',\n",
       " 'past',\n",
       " 'patriotism',\n",
       " 'patrol',\n",
       " 'paulson',\n",
       " 'pays',\n",
       " 'pens',\n",
       " 'people',\n",
       " 'perfect',\n",
       " 'perform',\n",
       " 'perp',\n",
       " 'perry',\n",
       " 'pete',\n",
       " 'phone',\n",
       " 'photo',\n",
       " 'photographer',\n",
       " 'pick',\n",
       " 'pics',\n",
       " 'pilot',\n",
       " 'pitt',\n",
       " 'pivot',\n",
       " 'planned',\n",
       " 'plaque',\n",
       " 'players',\n",
       " 'poehler',\n",
       " 'pointed',\n",
       " 'police',\n",
       " 'policy',\n",
       " 'politician',\n",
       " 'politics',\n",
       " 'poll',\n",
       " 'poop',\n",
       " 'pope',\n",
       " 'portland',\n",
       " 'post',\n",
       " 'posthumously',\n",
       " 'powerful',\n",
       " 'powers',\n",
       " 'praises',\n",
       " 'pray',\n",
       " 'predictably',\n",
       " 'pregnant',\n",
       " 'president',\n",
       " 'press',\n",
       " 'pressed',\n",
       " 'pretty',\n",
       " 'prevention',\n",
       " 'primary',\n",
       " 'prime',\n",
       " 'prince',\n",
       " 'princeton',\n",
       " 'prize',\n",
       " 'probe',\n",
       " 'problematic',\n",
       " 'progress',\n",
       " 'promise',\n",
       " 'promposals',\n",
       " 'prosecutors',\n",
       " 'prostitute',\n",
       " 'protested',\n",
       " 'protests',\n",
       " 'proud',\n",
       " 'prove',\n",
       " 'proves',\n",
       " 'pruitt',\n",
       " 'public',\n",
       " 'publix',\n",
       " 'pulled',\n",
       " 'pulling',\n",
       " 'puncture',\n",
       " 'punishment',\n",
       " 'puppet',\n",
       " 'push',\n",
       " 'putin',\n",
       " 'puts',\n",
       " 'putstarwarsinotherfilms',\n",
       " 'queer',\n",
       " 'question',\n",
       " 'queue',\n",
       " 'race',\n",
       " 'rachel',\n",
       " 'racism',\n",
       " 'rallies',\n",
       " 'rapping',\n",
       " 'rat',\n",
       " 'rattled',\n",
       " 'react',\n",
       " 'read',\n",
       " 'reading',\n",
       " 'ready',\n",
       " 'real',\n",
       " 'really',\n",
       " 'reason',\n",
       " 'reasons',\n",
       " 'recap',\n",
       " 'receive',\n",
       " 'received',\n",
       " 'recreation',\n",
       " 'red',\n",
       " 'reddit',\n",
       " 'reel',\n",
       " 'referendum',\n",
       " 'reflects',\n",
       " 'reform',\n",
       " 'region',\n",
       " 'registration',\n",
       " 'regret',\n",
       " 'regulating',\n",
       " 'rejects',\n",
       " 'remote',\n",
       " 'removed',\n",
       " 'repeal',\n",
       " 'report',\n",
       " 'reportedly',\n",
       " 'reporter',\n",
       " 'reports',\n",
       " 'republicans',\n",
       " 'rescue',\n",
       " 'rescues',\n",
       " 'research',\n",
       " 'resort',\n",
       " 'responds',\n",
       " 'response',\n",
       " 'responsible',\n",
       " 'restaurant',\n",
       " 'revealed',\n",
       " 'reveals',\n",
       " 'review',\n",
       " 'revising',\n",
       " 'revival',\n",
       " 'reynolds',\n",
       " 'rice',\n",
       " 'rides',\n",
       " 'right',\n",
       " 'rights',\n",
       " 'rip',\n",
       " 'rips',\n",
       " 'risk',\n",
       " 'road',\n",
       " 'roasted',\n",
       " 'rob',\n",
       " 'robert',\n",
       " 'robots',\n",
       " 'roger',\n",
       " 'romance',\n",
       " 'room',\n",
       " 'roseanne',\n",
       " 'route',\n",
       " 'royal',\n",
       " 'rudy',\n",
       " 'ruin',\n",
       " 'ruled',\n",
       " 'rules',\n",
       " 'ruling',\n",
       " 'running',\n",
       " 'runoff',\n",
       " 'rushing',\n",
       " 'russian',\n",
       " 'rwandan',\n",
       " 'ryan',\n",
       " 'saddest',\n",
       " 'safe',\n",
       " 'said',\n",
       " 'sake',\n",
       " 'samantha',\n",
       " 'sanders',\n",
       " 'sandy',\n",
       " 'sanity',\n",
       " 'sarah',\n",
       " 'save',\n",
       " 'say',\n",
       " 'saying',\n",
       " 'says',\n",
       " 'scan',\n",
       " 'scary',\n",
       " 'scenes',\n",
       " 'schiff',\n",
       " 'school',\n",
       " 'schools',\n",
       " 'scientists',\n",
       " 'scott',\n",
       " 'scottish',\n",
       " 'search',\n",
       " 'season',\n",
       " 'seasons',\n",
       " 'seat',\n",
       " 'seats',\n",
       " 'seconds',\n",
       " 'security',\n",
       " 'sees',\n",
       " 'selfies',\n",
       " 'sell',\n",
       " 'senate',\n",
       " 'senators',\n",
       " 'seriously',\n",
       " 'sesame',\n",
       " 'set',\n",
       " 'seth',\n",
       " ...]"
      ]
     },
     "execution_count": 135,
     "metadata": {},
     "output_type": "execute_result"
    }
   ],
   "source": [
    "vectorizer.get_feature_names()[:]"
   ]
  },
  {
   "cell_type": "code",
   "execution_count": 136,
   "metadata": {},
   "outputs": [
    {
     "data": {
      "text/plain": [
       "1272"
      ]
     },
     "execution_count": 136,
     "metadata": {},
     "output_type": "execute_result"
    }
   ],
   "source": [
    "len(vectorizer.get_feature_names()[:])"
   ]
  },
  {
   "cell_type": "code",
   "execution_count": 137,
   "metadata": {},
   "outputs": [
    {
     "data": {
      "text/plain": [
       "array([[0., 0., 0., ..., 0., 0., 0.]])"
      ]
     },
     "execution_count": 137,
     "metadata": {},
     "output_type": "execute_result"
    }
   ],
   "source": [
    "tfidf_matrix[0].toarray()"
   ]
  },
  {
   "cell_type": "markdown",
   "metadata": {},
   "source": [
    "# Cosine Similarity"
   ]
  },
  {
   "cell_type": "code",
   "execution_count": 138,
   "metadata": {},
   "outputs": [
    {
     "name": "stdout",
     "output_type": "stream",
     "text": [
      "[3.11731946e-03 1.96699871e-02 2.47305403e-02 2.37791724e-02\n",
      " 2.38790306e-02 3.13750713e-02 2.38561844e-02 2.38080371e-02\n",
      " 2.38790306e-02 2.37824212e-02 0.00000000e+00 9.99616426e-01\n",
      " 2.07379497e-02 1.58183324e-01 1.38214598e-01 1.06887765e-01\n",
      " 1.64391996e-01 2.36854413e-02 1.38658561e-01 1.18926224e-01\n",
      " 2.20317842e-02 2.38790306e-02 1.71611501e-02 1.00000000e+00\n",
      " 5.37262605e-02 2.38084734e-02 2.35775833e-02 2.09258429e-02\n",
      " 2.39226761e-02 1.84502324e-02 1.88240765e-01 2.61843487e-02\n",
      " 1.31594054e-03 5.86132723e-04 1.61905330e-01 4.87542763e-04\n",
      " 8.69500631e-03 2.38790306e-02 9.97571738e-01 2.56057765e-02\n",
      " 5.19950619e-03 9.65908914e-04 6.24352627e-04 1.32689138e-02\n",
      " 2.47223320e-02 2.33133544e-02 2.38790306e-02 3.89293508e-04\n",
      " 2.72178124e-02 2.38790306e-02 1.63066407e-02 2.35537373e-02\n",
      " 1.39379508e-02 2.38790306e-02 2.38790306e-02 9.97799940e-01\n",
      " 2.42107727e-02 2.12092397e-02 2.40537491e-02 3.38326294e-03\n",
      " 2.38790306e-02 0.00000000e+00 2.39227640e-02 3.52186434e-02\n",
      " 2.38790306e-02 1.40283122e-02 2.17463548e-02 2.10747715e-02\n",
      " 2.31732070e-02 5.10836232e-03 0.00000000e+00 9.99136647e-01\n",
      " 2.38193208e-02 9.96374578e-01 9.99616426e-01 2.38786558e-02\n",
      " 2.36592060e-02 0.00000000e+00 2.63650936e-02 1.58904433e-02\n",
      " 2.38451015e-02 2.58898087e-02 9.00077500e-03 1.52898853e-02\n",
      " 1.34190759e-01 2.35191371e-02 2.32192552e-02 2.37965162e-02\n",
      " 1.31426140e-01 9.99616426e-01 9.31881538e-03 2.10281719e-02\n",
      " 1.19332529e-01 9.45400561e-02 8.18244113e-03 6.94985730e-02\n",
      " 1.19488756e-03 2.38790306e-02 1.45030384e-01 1.94877528e-01\n",
      " 2.41869913e-03 9.99291268e-01 1.05910240e-02 1.40808592e-02\n",
      " 1.62658088e-02 2.38790306e-02 8.39797105e-05 1.67346558e-04\n",
      " 1.40283122e-02 1.67346558e-04 1.40283122e-02 9.99881541e-01\n",
      " 2.35882834e-02 8.91439239e-01 0.00000000e+00 9.99886407e-01\n",
      " 2.55181022e-02 1.69181828e-02 9.99616426e-01 9.99616426e-01\n",
      " 2.41059587e-02 1.37318846e-05 1.84186021e-01 1.94378317e-02\n",
      " 2.47838679e-02 2.25636163e-02 2.38790306e-02 2.38790306e-02\n",
      " 2.26844950e-02 8.83893507e-04 9.52196845e-04 2.18968876e-02\n",
      " 2.34582891e-02 9.82286770e-01 2.41588291e-02 5.85678908e-02\n",
      " 4.79663007e-03 0.00000000e+00 2.38780195e-02 5.59174406e-02\n",
      " 2.33606915e-02 1.78814164e-02 1.70085480e-01 2.38790306e-02\n",
      " 2.38674326e-02 8.04838478e-03 5.24292248e-02 0.00000000e+00\n",
      " 9.78574129e-01 1.31326206e-02 0.00000000e+00 0.00000000e+00\n",
      " 1.61478727e-02 2.09372685e-02 1.40283122e-02 1.40449961e-01\n",
      " 2.38790306e-02 2.34133231e-02 2.40097996e-02 2.34800660e-02\n",
      " 1.92725671e-02 2.47614197e-02 0.00000000e+00 2.38790306e-02\n",
      " 1.53817154e-02 8.48096917e-01 2.38786339e-02 2.65917331e-02\n",
      " 2.52905526e-02 1.40934176e-01 2.55692497e-03 3.26389968e-03\n",
      " 1.62343042e-01 5.24869330e-01 1.75837822e-02 9.10837210e-01\n",
      " 0.00000000e+00 6.72983482e-05 1.51488382e-01 0.00000000e+00\n",
      " 0.00000000e+00 2.38790306e-02 2.00353565e-02 2.39947391e-02\n",
      " 1.59923481e-02 2.38790306e-02 2.27507987e-02 3.66436161e-03\n",
      " 2.33192062e-02 0.00000000e+00 9.99616426e-01 2.27552852e-02\n",
      " 0.00000000e+00 1.19130652e-01 2.09279331e-02 2.37095835e-02\n",
      " 1.84301943e-01 6.48795520e-03 6.68811958e-01 1.99430495e-03\n",
      " 0.00000000e+00 2.38730503e-02 0.00000000e+00 0.00000000e+00\n",
      " 2.38790306e-02 2.38790306e-02 1.07637267e-03 2.06063581e-02\n",
      " 1.40282647e-02 1.61524775e-01 2.03826651e-02 3.28923034e-01\n",
      " 4.91873046e-01 1.82391761e-01 2.30045853e-01 0.00000000e+00\n",
      " 2.01987321e-02 2.11141538e-03 1.84954769e-02 1.89474148e-02\n",
      " 1.78625575e-02 1.57886360e-01 1.23203969e-03 0.00000000e+00\n",
      " 2.54434229e-02 0.00000000e+00 0.00000000e+00 1.34417763e-02\n",
      " 6.85575174e-03 0.00000000e+00 6.53035012e-03 2.60656075e-02\n",
      " 4.36361861e-01 9.53076630e-01 2.60929729e-02 2.38790306e-02\n",
      " 1.81008525e-02 2.38790306e-02 1.99218737e-02 2.47686867e-02\n",
      " 2.38790306e-02 9.94427459e-01 2.30806676e-02 2.46154130e-02\n",
      " 5.89557650e-03 1.56210619e-01 1.50894136e-01 8.34665165e-02\n",
      " 4.38504344e-01]\n"
     ]
    }
   ],
   "source": [
    "from sklearn.preprocessing import normalize\n",
    "norm_features=normalize(nmf_features)\n",
    "current_article=norm_features[23,:]\n",
    "similarities=norm_features.dot(current_article)\n",
    "print(similarities)"
   ]
  },
  {
   "cell_type": "markdown",
   "metadata": {},
   "source": [
    "# Label similarities with article Title"
   ]
  },
  {
   "cell_type": "code",
   "execution_count": 139,
   "metadata": {},
   "outputs": [],
   "source": [
    "norm_features=normalize(nmf_features)\n",
    "df=pd.DataFrame(norm_features, index=news_articles[\"Headline\"])\n",
    "current_articles=df.loc['hugh grant marries first time age']\n",
    "similarities=df.dot(current_articles)"
   ]
  },
  {
   "cell_type": "code",
   "execution_count": 140,
   "metadata": {},
   "outputs": [
    {
     "name": "stdout",
     "output_type": "stream",
     "text": [
      "Headline\n",
      "hugh grant marries first time age                               1.000000\n",
      "facebook accused reading texts accessing microphones lawsuit    0.993767\n",
      "parents slam dogs scenes grooming children sexual abuse         0.986446\n",
      "time takes aim mcdonald walmart sexual harassment complaints    0.983054\n",
      "ryan zinke looks reel back critics pivot conservation           0.978717\n",
      "dtype: float64\n"
     ]
    }
   ],
   "source": [
    "print(similarities.nlargest())"
   ]
  },
  {
   "cell_type": "code",
   "execution_count": 141,
   "metadata": {},
   "outputs": [],
   "source": [
    "indices = pd.Series(news_articles.index, index=news_articles['Headline']).drop_duplicates()"
   ]
  },
  {
   "cell_type": "code",
   "execution_count": 142,
   "metadata": {},
   "outputs": [
    {
     "data": {
      "text/plain": [
       "Headline\n",
       "mass shootings texas last week tv                                    0\n",
       "smith joins diplo nicky jam world cup official song                  1\n",
       "hugh grant marries first time age                                    2\n",
       "jim carrey blasts adam schiff democrats new artwork                  3\n",
       "julianna margulies uses donald trump poop bags pick dog              4\n",
       "                                                                  ... \n",
       "sorry ben affleck make way justin theroux giant rat tattoo         244\n",
       "hillary clinton tips russian hat trump yale commencement speech    245\n",
       "giuliani says mueller ca talk trump trump hears fbi source         246\n",
       "minutes reporter reveals trump chilling reason slamming press      247\n",
       "call cops watch powerful monologue racism                          248\n",
       "Length: 249, dtype: int64"
      ]
     },
     "execution_count": 142,
     "metadata": {},
     "output_type": "execute_result"
    }
   ],
   "source": [
    "indices"
   ]
  },
  {
   "cell_type": "code",
   "execution_count": 143,
   "metadata": {},
   "outputs": [
    {
     "data": {
      "text/plain": [
       "1"
      ]
     },
     "execution_count": 143,
     "metadata": {},
     "output_type": "execute_result"
    }
   ],
   "source": [
    "indices[\"smith joins diplo nicky jam world cup official song\"]"
   ]
  },
  {
   "cell_type": "code",
   "execution_count": 144,
   "metadata": {},
   "outputs": [
    {
     "data": {
      "text/plain": [
       "0.22026843795921774"
      ]
     },
     "execution_count": 144,
     "metadata": {},
     "output_type": "execute_result"
    }
   ],
   "source": [
    "similarities[1]"
   ]
  },
  {
   "cell_type": "markdown",
   "metadata": {},
   "source": [
    "# Pairwise Similarity"
   ]
  },
  {
   "cell_type": "code",
   "execution_count": 145,
   "metadata": {},
   "outputs": [],
   "source": [
    "cosine_sim_mat = cosine_similarity(tfidf_matrix, tfidf_matrix)"
   ]
  },
  {
   "cell_type": "code",
   "execution_count": 146,
   "metadata": {},
   "outputs": [
    {
     "data": {
      "text/plain": [
       "array([[1.        , 0.        , 0.        , ..., 0.        , 0.        ,\n",
       "        0.        ],\n",
       "       [0.        , 1.        , 0.        , ..., 0.        , 0.        ,\n",
       "        0.        ],\n",
       "       [0.        , 0.        , 1.        , ..., 0.        , 0.        ,\n",
       "        0.        ],\n",
       "       ...,\n",
       "       [0.        , 0.        , 0.        , ..., 1.        , 0.05967273,\n",
       "        0.        ],\n",
       "       [0.        , 0.        , 0.        , ..., 0.05967273, 1.        ,\n",
       "        0.        ],\n",
       "       [0.        , 0.        , 0.        , ..., 0.        , 0.        ,\n",
       "        1.        ]])"
      ]
     },
     "execution_count": 146,
     "metadata": {},
     "output_type": "execute_result"
    }
   ],
   "source": [
    "cosine_sim_mat"
   ]
  },
  {
   "cell_type": "code",
   "execution_count": 147,
   "metadata": {},
   "outputs": [
    {
     "data": {
      "text/plain": [
       "(249, 249)"
      ]
     },
     "execution_count": 147,
     "metadata": {},
     "output_type": "execute_result"
    }
   ],
   "source": [
    "cosine_sim_mat.shape"
   ]
  },
  {
   "cell_type": "code",
   "execution_count": 148,
   "metadata": {},
   "outputs": [
    {
     "data": {
      "text/plain": [
       "Headline\n",
       "mass shootings texas last week tv                                    0\n",
       "smith joins diplo nicky jam world cup official song                  1\n",
       "hugh grant marries first time age                                    2\n",
       "jim carrey blasts adam schiff democrats new artwork                  3\n",
       "julianna margulies uses donald trump poop bags pick dog              4\n",
       "                                                                  ... \n",
       "sorry ben affleck make way justin theroux giant rat tattoo         244\n",
       "hillary clinton tips russian hat trump yale commencement speech    245\n",
       "giuliani says mueller ca talk trump trump hears fbi source         246\n",
       "minutes reporter reveals trump chilling reason slamming press      247\n",
       "call cops watch powerful monologue racism                          248\n",
       "Length: 249, dtype: int64"
      ]
     },
     "execution_count": 148,
     "metadata": {},
     "output_type": "execute_result"
    }
   ],
   "source": [
    "indices = pd.Series(news_articles.index, index=news_articles['Headline']).drop_duplicates()\n",
    "indices"
   ]
  },
  {
   "cell_type": "code",
   "execution_count": 149,
   "metadata": {},
   "outputs": [
    {
     "data": {
      "text/plain": [
       "3"
      ]
     },
     "execution_count": 149,
     "metadata": {},
     "output_type": "execute_result"
    }
   ],
   "source": [
    "indices[\"jim carrey blasts adam schiff democrats new artwork\"]"
   ]
  },
  {
   "cell_type": "code",
   "execution_count": 150,
   "metadata": {},
   "outputs": [
    {
     "data": {
      "text/plain": [
       "array([0.        , 0.        , 0.        , 1.        , 0.        ,\n",
       "       0.        , 0.0622526 , 0.07801407, 0.        , 0.087539  ,\n",
       "       0.        , 0.        , 0.        , 0.        , 0.        ,\n",
       "       0.        , 0.        , 0.        , 0.        , 0.        ,\n",
       "       0.        , 0.        , 0.        , 0.        , 0.        ,\n",
       "       0.        , 0.        , 0.        , 0.        , 0.        ,\n",
       "       0.        , 0.        , 0.        , 0.        , 0.        ,\n",
       "       0.        , 0.        , 0.08293119, 0.        , 0.05356304,\n",
       "       0.        , 0.        , 0.        , 0.        , 0.        ,\n",
       "       0.        , 0.        , 0.        , 0.        , 0.13040212,\n",
       "       0.        , 0.        , 0.        , 0.0650038 , 0.        ,\n",
       "       0.        , 0.        , 0.        , 0.        , 0.        ,\n",
       "       0.        , 0.        , 0.        , 0.05656455, 0.        ,\n",
       "       0.        , 0.        , 0.        , 0.        , 0.        ,\n",
       "       0.        , 0.        , 0.        , 0.        , 0.        ,\n",
       "       0.        , 0.        , 0.        , 0.        , 0.        ,\n",
       "       0.        , 0.        , 0.        , 0.        , 0.        ,\n",
       "       0.        , 0.        , 0.        , 0.        , 0.        ,\n",
       "       0.        , 0.        , 0.        , 0.        , 0.        ,\n",
       "       0.        , 0.        , 0.        , 0.        , 0.        ,\n",
       "       0.        , 0.        , 0.        , 0.        , 0.        ,\n",
       "       0.        , 0.        , 0.        , 0.        , 0.        ,\n",
       "       0.        , 0.        , 0.        , 0.        , 0.        ,\n",
       "       0.        , 0.        , 0.05993402, 0.        , 0.        ,\n",
       "       0.05249202, 0.        , 0.        , 0.        , 0.        ,\n",
       "       0.        , 0.        , 0.05404652, 0.        , 0.10416289,\n",
       "       0.        , 0.        , 0.        , 0.        , 0.        ,\n",
       "       0.        , 0.        , 0.        , 0.        , 0.        ,\n",
       "       0.        , 0.        , 0.        , 0.06472072, 0.        ,\n",
       "       0.        , 0.        , 0.        , 0.        , 0.        ,\n",
       "       0.        , 0.        , 0.        , 0.        , 0.        ,\n",
       "       0.        , 0.        , 0.        , 0.        , 0.        ,\n",
       "       0.        , 0.        , 0.        , 0.        , 0.        ,\n",
       "       0.        , 0.04464991, 0.        , 0.        , 0.        ,\n",
       "       0.        , 0.        , 0.        , 0.        , 0.        ,\n",
       "       0.        , 0.        , 0.        , 0.        , 0.        ,\n",
       "       0.        , 0.        , 0.        , 0.0563666 , 0.        ,\n",
       "       0.        , 0.        , 0.        , 0.11078476, 0.        ,\n",
       "       0.        , 0.11206698, 0.        , 0.        , 0.        ,\n",
       "       0.        , 0.        , 0.        , 0.        , 0.        ,\n",
       "       0.        , 0.        , 0.        , 0.        , 0.06127527,\n",
       "       0.        , 0.        , 0.        , 0.        , 0.        ,\n",
       "       0.        , 0.        , 0.        , 0.        , 0.        ,\n",
       "       0.        , 0.        , 0.        , 0.        , 0.        ,\n",
       "       0.        , 0.        , 0.        , 0.        , 0.        ,\n",
       "       0.        , 0.        , 0.        , 0.        , 0.        ,\n",
       "       0.        , 0.        , 0.        , 0.        , 0.        ,\n",
       "       0.        , 0.        , 0.05512243, 0.05373828, 0.        ,\n",
       "       0.        , 0.        , 0.        , 0.        , 0.        ,\n",
       "       0.        , 0.        , 0.        , 0.        ])"
      ]
     },
     "execution_count": 150,
     "metadata": {},
     "output_type": "execute_result"
    }
   ],
   "source": [
    "cosine_sim_mat[3]"
   ]
  },
  {
   "cell_type": "code",
   "execution_count": 151,
   "metadata": {},
   "outputs": [
    {
     "data": {
      "text/plain": [
       "[(0, 0.0),\n",
       " (1, 0.0),\n",
       " (2, 0.0),\n",
       " (3, 1.0),\n",
       " (4, 0.0),\n",
       " (5, 0.0),\n",
       " (6, 0.062252602093358776),\n",
       " (7, 0.07801406673500483),\n",
       " (8, 0.0),\n",
       " (9, 0.08753899551130777),\n",
       " (10, 0.0),\n",
       " (11, 0.0),\n",
       " (12, 0.0),\n",
       " (13, 0.0),\n",
       " (14, 0.0),\n",
       " (15, 0.0),\n",
       " (16, 0.0),\n",
       " (17, 0.0),\n",
       " (18, 0.0),\n",
       " (19, 0.0),\n",
       " (20, 0.0),\n",
       " (21, 0.0),\n",
       " (22, 0.0),\n",
       " (23, 0.0),\n",
       " (24, 0.0),\n",
       " (25, 0.0),\n",
       " (26, 0.0),\n",
       " (27, 0.0),\n",
       " (28, 0.0),\n",
       " (29, 0.0),\n",
       " (30, 0.0),\n",
       " (31, 0.0),\n",
       " (32, 0.0),\n",
       " (33, 0.0),\n",
       " (34, 0.0),\n",
       " (35, 0.0),\n",
       " (36, 0.0),\n",
       " (37, 0.08293119011472044),\n",
       " (38, 0.0),\n",
       " (39, 0.053563044022453744),\n",
       " (40, 0.0),\n",
       " (41, 0.0),\n",
       " (42, 0.0),\n",
       " (43, 0.0),\n",
       " (44, 0.0),\n",
       " (45, 0.0),\n",
       " (46, 0.0),\n",
       " (47, 0.0),\n",
       " (48, 0.0),\n",
       " (49, 0.13040212109460592),\n",
       " (50, 0.0),\n",
       " (51, 0.0),\n",
       " (52, 0.0),\n",
       " (53, 0.06500380067446584),\n",
       " (54, 0.0),\n",
       " (55, 0.0),\n",
       " (56, 0.0),\n",
       " (57, 0.0),\n",
       " (58, 0.0),\n",
       " (59, 0.0),\n",
       " (60, 0.0),\n",
       " (61, 0.0),\n",
       " (62, 0.0),\n",
       " (63, 0.05656455021352393),\n",
       " (64, 0.0),\n",
       " (65, 0.0),\n",
       " (66, 0.0),\n",
       " (67, 0.0),\n",
       " (68, 0.0),\n",
       " (69, 0.0),\n",
       " (70, 0.0),\n",
       " (71, 0.0),\n",
       " (72, 0.0),\n",
       " (73, 0.0),\n",
       " (74, 0.0),\n",
       " (75, 0.0),\n",
       " (76, 0.0),\n",
       " (77, 0.0),\n",
       " (78, 0.0),\n",
       " (79, 0.0),\n",
       " (80, 0.0),\n",
       " (81, 0.0),\n",
       " (82, 0.0),\n",
       " (83, 0.0),\n",
       " (84, 0.0),\n",
       " (85, 0.0),\n",
       " (86, 0.0),\n",
       " (87, 0.0),\n",
       " (88, 0.0),\n",
       " (89, 0.0),\n",
       " (90, 0.0),\n",
       " (91, 0.0),\n",
       " (92, 0.0),\n",
       " (93, 0.0),\n",
       " (94, 0.0),\n",
       " (95, 0.0),\n",
       " (96, 0.0),\n",
       " (97, 0.0),\n",
       " (98, 0.0),\n",
       " (99, 0.0),\n",
       " (100, 0.0),\n",
       " (101, 0.0),\n",
       " (102, 0.0),\n",
       " (103, 0.0),\n",
       " (104, 0.0),\n",
       " (105, 0.0),\n",
       " (106, 0.0),\n",
       " (107, 0.0),\n",
       " (108, 0.0),\n",
       " (109, 0.0),\n",
       " (110, 0.0),\n",
       " (111, 0.0),\n",
       " (112, 0.0),\n",
       " (113, 0.0),\n",
       " (114, 0.0),\n",
       " (115, 0.0),\n",
       " (116, 0.0),\n",
       " (117, 0.05993402301361974),\n",
       " (118, 0.0),\n",
       " (119, 0.0),\n",
       " (120, 0.05249202148862207),\n",
       " (121, 0.0),\n",
       " (122, 0.0),\n",
       " (123, 0.0),\n",
       " (124, 0.0),\n",
       " (125, 0.0),\n",
       " (126, 0.0),\n",
       " (127, 0.054046515769508786),\n",
       " (128, 0.0),\n",
       " (129, 0.10416289050777278),\n",
       " (130, 0.0),\n",
       " (131, 0.0),\n",
       " (132, 0.0),\n",
       " (133, 0.0),\n",
       " (134, 0.0),\n",
       " (135, 0.0),\n",
       " (136, 0.0),\n",
       " (137, 0.0),\n",
       " (138, 0.0),\n",
       " (139, 0.0),\n",
       " (140, 0.0),\n",
       " (141, 0.0),\n",
       " (142, 0.0),\n",
       " (143, 0.06472072416884844),\n",
       " (144, 0.0),\n",
       " (145, 0.0),\n",
       " (146, 0.0),\n",
       " (147, 0.0),\n",
       " (148, 0.0),\n",
       " (149, 0.0),\n",
       " (150, 0.0),\n",
       " (151, 0.0),\n",
       " (152, 0.0),\n",
       " (153, 0.0),\n",
       " (154, 0.0),\n",
       " (155, 0.0),\n",
       " (156, 0.0),\n",
       " (157, 0.0),\n",
       " (158, 0.0),\n",
       " (159, 0.0),\n",
       " (160, 0.0),\n",
       " (161, 0.0),\n",
       " (162, 0.0),\n",
       " (163, 0.0),\n",
       " (164, 0.0),\n",
       " (165, 0.0),\n",
       " (166, 0.04464990580593628),\n",
       " (167, 0.0),\n",
       " (168, 0.0),\n",
       " (169, 0.0),\n",
       " (170, 0.0),\n",
       " (171, 0.0),\n",
       " (172, 0.0),\n",
       " (173, 0.0),\n",
       " (174, 0.0),\n",
       " (175, 0.0),\n",
       " (176, 0.0),\n",
       " (177, 0.0),\n",
       " (178, 0.0),\n",
       " (179, 0.0),\n",
       " (180, 0.0),\n",
       " (181, 0.0),\n",
       " (182, 0.0),\n",
       " (183, 0.05636660089177028),\n",
       " (184, 0.0),\n",
       " (185, 0.0),\n",
       " (186, 0.0),\n",
       " (187, 0.0),\n",
       " (188, 0.11078475959376681),\n",
       " (189, 0.0),\n",
       " (190, 0.0),\n",
       " (191, 0.11206697639037944),\n",
       " (192, 0.0),\n",
       " (193, 0.0),\n",
       " (194, 0.0),\n",
       " (195, 0.0),\n",
       " (196, 0.0),\n",
       " (197, 0.0),\n",
       " (198, 0.0),\n",
       " (199, 0.0),\n",
       " (200, 0.0),\n",
       " (201, 0.0),\n",
       " (202, 0.0),\n",
       " (203, 0.0),\n",
       " (204, 0.061275273792449965),\n",
       " (205, 0.0),\n",
       " (206, 0.0),\n",
       " (207, 0.0),\n",
       " (208, 0.0),\n",
       " (209, 0.0),\n",
       " (210, 0.0),\n",
       " (211, 0.0),\n",
       " (212, 0.0),\n",
       " (213, 0.0),\n",
       " (214, 0.0),\n",
       " (215, 0.0),\n",
       " (216, 0.0),\n",
       " (217, 0.0),\n",
       " (218, 0.0),\n",
       " (219, 0.0),\n",
       " (220, 0.0),\n",
       " (221, 0.0),\n",
       " (222, 0.0),\n",
       " (223, 0.0),\n",
       " (224, 0.0),\n",
       " (225, 0.0),\n",
       " (226, 0.0),\n",
       " (227, 0.0),\n",
       " (228, 0.0),\n",
       " (229, 0.0),\n",
       " (230, 0.0),\n",
       " (231, 0.0),\n",
       " (232, 0.0),\n",
       " (233, 0.0),\n",
       " (234, 0.0),\n",
       " (235, 0.0),\n",
       " (236, 0.0),\n",
       " (237, 0.05512242680562135),\n",
       " (238, 0.05373827739433681),\n",
       " (239, 0.0),\n",
       " (240, 0.0),\n",
       " (241, 0.0),\n",
       " (242, 0.0),\n",
       " (243, 0.0),\n",
       " (244, 0.0),\n",
       " (245, 0.0),\n",
       " (246, 0.0),\n",
       " (247, 0.0),\n",
       " (248, 0.0)]"
      ]
     },
     "execution_count": 151,
     "metadata": {},
     "output_type": "execute_result"
    }
   ],
   "source": [
    "list(enumerate(cosine_sim_mat[3]))"
   ]
  },
  {
   "cell_type": "code",
   "execution_count": 152,
   "metadata": {},
   "outputs": [],
   "source": [
    "# function that takes in news_article as input and outputs most similar category\n",
    "def get_recommendations(Headline, cosine_sim_mat=cosine_sim_mat):\n",
    "    # get the index of the news that matches the category\n",
    "    idx = indices[Headline]\n",
    "    \n",
    "    \n",
    "    #get the pairwise similarity scores of all news with that \n",
    "    sim_scores = list(enumerate(cosine_sim_mat[idx]))\n",
    "    \n",
    "    #Sort the news based on the similarity score\n",
    "    sim_scores = sorted(sim_scores, key=lambda x: x[1], reverse=True)\n",
    "    \n",
    "    #get the scores of the 5 most similar news\n",
    "    sim_scores = sim_scores[1:5]\n",
    "    \n",
    "    # get the news indices\n",
    "    news_indices = [i[0] for i in sim_scores]\n",
    "    \n",
    "    # Return the top 10 most similar \n",
    "    return news_articles['Headline'].iloc[news_indices]"
   ]
  },
  {
   "cell_type": "markdown",
   "metadata": {},
   "source": [
    "# Get Recommendations"
   ]
  },
  {
   "cell_type": "code",
   "execution_count": 153,
   "metadata": {},
   "outputs": [
    {
     "data": {
      "text/plain": [
       "95     rudy giuliani trump wo interview mueller get s...\n",
       "234                  roger stone says mueller indictment\n",
       "14     trump son concerned fbi obtained wiretaps puti...\n",
       "11     south korean president meets north korea kim j...\n",
       "Name: Headline, dtype: object"
      ]
     },
     "execution_count": 153,
     "metadata": {},
     "output_type": "execute_result"
    }
   ],
   "source": [
    "get_recommendations(\"giuliani says mueller ca talk trump trump hears fbi source\")"
   ]
  },
  {
   "cell_type": "markdown",
   "metadata": {},
   "source": [
    "# AT THE END NOW THE TIME OF Model Evaluation"
   ]
  },
  {
   "cell_type": "code",
   "execution_count": 154,
   "metadata": {},
   "outputs": [],
   "source": [
    "x = news_articles['Headline']\n",
    "y = news_articles['Category']"
   ]
  },
  {
   "cell_type": "markdown",
   "metadata": {},
   "source": [
    "### Create and fit bag of words model"
   ]
  },
  {
   "cell_type": "code",
   "execution_count": 155,
   "metadata": {},
   "outputs": [
    {
     "name": "stdout",
     "output_type": "stream",
     "text": [
      "X.shape =  (249, 1272)\n",
      "y.shape =  (249,)\n"
     ]
    }
   ],
   "source": [
    "from sklearn.feature_extraction.text import CountVectorizer\n",
    "import numpy as np\n",
    "\n",
    "x = np.array(news_articles.iloc[:,0].values)\n",
    "y = np.array(news_articles.CategoryId.values)\n",
    "\n",
    "cv = CountVectorizer(max_features = 5000)\n",
    "x = cv.fit_transform(news_articles.Headline).toarray()\n",
    "\n",
    "print(\"X.shape = \",x.shape)\n",
    "print(\"y.shape = \",y.shape)"
   ]
  },
  {
   "cell_type": "code",
   "execution_count": 156,
   "metadata": {},
   "outputs": [
    {
     "name": "stdout",
     "output_type": "stream",
     "text": [
      "[[0 0 0 ... 0 0 0]\n",
      " [0 0 0 ... 0 0 0]\n",
      " [0 0 0 ... 0 0 0]\n",
      " ...\n",
      " [0 0 0 ... 0 0 0]\n",
      " [0 0 0 ... 0 0 0]\n",
      " [0 0 0 ... 0 0 0]]\n"
     ]
    }
   ],
   "source": [
    "print(x)"
   ]
  },
  {
   "cell_type": "markdown",
   "metadata": {},
   "source": [
    "# train test and split the dataset into training and test set"
   ]
  },
  {
   "cell_type": "code",
   "execution_count": 157,
   "metadata": {},
   "outputs": [
    {
     "name": "stdout",
     "output_type": "stream",
     "text": [
      "174\n",
      "75\n"
     ]
    }
   ],
   "source": [
    "from sklearn.model_selection import train_test_split\n",
    "x_train, x_test, y_train, y_test = train_test_split(x, y, test_size = 0.3, random_state = 0, shuffle = True)\n",
    "\n",
    "\n",
    "print(len(x_train))\n",
    "print(len(x_test))"
   ]
  },
  {
   "cell_type": "code",
   "execution_count": 158,
   "metadata": {},
   "outputs": [
    {
     "name": "stdout",
     "output_type": "stream",
     "text": [
      "[[0 0 0 ... 0 0 0]\n",
      " [0 0 0 ... 0 0 0]\n",
      " [0 0 0 ... 0 0 0]\n",
      " ...\n",
      " [0 0 0 ... 0 0 0]\n",
      " [0 0 0 ... 0 0 0]\n",
      " [0 0 0 ... 0 0 0]]\n"
     ]
    }
   ],
   "source": [
    "print(x_train)"
   ]
  },
  {
   "cell_type": "markdown",
   "metadata": {},
   "source": [
    "# create empty list"
   ]
  },
  {
   "cell_type": "code",
   "execution_count": 159,
   "metadata": {},
   "outputs": [],
   "source": [
    "#create list of model and accuracy dicts\n",
    "perform_list = [ ]"
   ]
  },
  {
   "cell_type": "code",
   "execution_count": 160,
   "metadata": {},
   "outputs": [],
   "source": [
    "def run_model(model_name, est_c, est_pnlty):\n",
    "    mdl=''\n",
    "    if model_name == 'Logistic Regression':\n",
    "        mdl = LogisticRegression()\n",
    "    elif model_name == 'Random Forest':\n",
    "        mdl = RandomForestClassifier(n_estimators=100 ,criterion='entropy' , random_state=0)\n",
    "    elif model_name == 'Decision Tree Classifier':\n",
    "        mdl = DecisionTreeClassifier()\n",
    "    elif model_name == 'K Nearest Neighbour':\n",
    "        mdl = KNeighborsClassifier(n_neighbors=10 , metric= 'minkowski' , p = 4)\n",
    "    \n",
    "   \n",
    "\n",
    "\n",
    "    oneVsRest = OneVsRestClassifier(mdl)\n",
    "    oneVsRest.fit(x_train, y_train)\n",
    "    y_pred = oneVsRest.predict(x_test)\n",
    "    \n",
    "    \n",
    "    # Performance metrics\n",
    "    accuracy = round(accuracy_score(y_test, y_pred) * 100, 2)\n",
    "    # Get precision, recall, f1 scores\n",
    "    precision, recall, f1score, support = score(y_test, y_pred, average='micro')\n",
    "    \n",
    "    print(f'Test Accuracy Score of Basic {model_name}: % {accuracy}')\n",
    "    print(f'Precision : {precision}')\n",
    "    print(f'Recall    : {recall}')\n",
    "    print(f'F1-score   : {f1score}')\n",
    "\n",
    "    # Add performance parameters to list\n",
    "    perform_list.append(dict([\n",
    "        ('Model', model_name),\n",
    "        ('Test Accuracy', round(accuracy, 2)),\n",
    "        ('Precision', round(precision, 2)),\n",
    "        ('Recall', round(recall, 2)),\n",
    "        ('F1', round(f1score, 2))\n",
    "         ]))"
   ]
  },
  {
   "cell_type": "markdown",
   "metadata": {},
   "source": [
    "# Logistic Regression"
   ]
  },
  {
   "cell_type": "code",
   "execution_count": 161,
   "metadata": {},
   "outputs": [
    {
     "name": "stdout",
     "output_type": "stream",
     "text": [
      "Test Accuracy Score of Basic Logistic Regression: % 40.0\n",
      "Precision : 0.4\n",
      "Recall    : 0.4\n",
      "F1-score   : 0.4000000000000001\n"
     ]
    }
   ],
   "source": [
    "run_model('Logistic Regression', est_c=None, est_pnlty=None)"
   ]
  },
  {
   "cell_type": "markdown",
   "metadata": {},
   "source": [
    "# Random Forest"
   ]
  },
  {
   "cell_type": "code",
   "execution_count": 162,
   "metadata": {},
   "outputs": [
    {
     "name": "stdout",
     "output_type": "stream",
     "text": [
      "Test Accuracy Score of Basic Random Forest: % 44.0\n",
      "Precision : 0.44\n",
      "Recall    : 0.44\n",
      "F1-score   : 0.44\n"
     ]
    }
   ],
   "source": [
    "run_model('Random Forest', est_c=None, est_pnlty=None)"
   ]
  },
  {
   "cell_type": "markdown",
   "metadata": {},
   "source": [
    "# Decision Tree"
   ]
  },
  {
   "cell_type": "code",
   "execution_count": 163,
   "metadata": {},
   "outputs": [
    {
     "name": "stdout",
     "output_type": "stream",
     "text": [
      "Test Accuracy Score of Basic Decision Tree Classifier: % 17.33\n",
      "Precision : 0.17333333333333334\n",
      "Recall    : 0.17333333333333334\n",
      "F1-score   : 0.17333333333333334\n"
     ]
    }
   ],
   "source": [
    "run_model('Decision Tree Classifier', est_c=None, est_pnlty=None)"
   ]
  },
  {
   "cell_type": "markdown",
   "metadata": {},
   "source": [
    "# KNN"
   ]
  },
  {
   "cell_type": "code",
   "execution_count": 164,
   "metadata": {},
   "outputs": [
    {
     "name": "stdout",
     "output_type": "stream",
     "text": [
      "Test Accuracy Score of Basic K Nearest Neighbour: % 24.0\n",
      "Precision : 0.24\n",
      "Recall    : 0.24\n",
      "F1-score   : 0.24\n"
     ]
    }
   ],
   "source": [
    "run_model('K Nearest Neighbour', est_c=None, est_pnlty=None)"
   ]
  },
  {
   "cell_type": "markdown",
   "metadata": {},
   "source": [
    "# Create dataframe of model, accuracy, precision,recall and f1"
   ]
  },
  {
   "cell_type": "code",
   "execution_count": 165,
   "metadata": {},
   "outputs": [
    {
     "data": {
      "text/html": [
       "<div>\n",
       "<style scoped>\n",
       "    .dataframe tbody tr th:only-of-type {\n",
       "        vertical-align: middle;\n",
       "    }\n",
       "\n",
       "    .dataframe tbody tr th {\n",
       "        vertical-align: top;\n",
       "    }\n",
       "\n",
       "    .dataframe thead th {\n",
       "        text-align: right;\n",
       "    }\n",
       "</style>\n",
       "<table border=\"1\" class=\"dataframe\">\n",
       "  <thead>\n",
       "    <tr style=\"text-align: right;\">\n",
       "      <th></th>\n",
       "      <th>Model</th>\n",
       "      <th>Test Accuracy</th>\n",
       "      <th>Precision</th>\n",
       "      <th>Recall</th>\n",
       "      <th>F1</th>\n",
       "    </tr>\n",
       "  </thead>\n",
       "  <tbody>\n",
       "    <tr>\n",
       "      <th>0</th>\n",
       "      <td>Logistic Regression</td>\n",
       "      <td>40.00</td>\n",
       "      <td>0.40</td>\n",
       "      <td>0.40</td>\n",
       "      <td>0.40</td>\n",
       "    </tr>\n",
       "    <tr>\n",
       "      <th>1</th>\n",
       "      <td>Random Forest</td>\n",
       "      <td>44.00</td>\n",
       "      <td>0.44</td>\n",
       "      <td>0.44</td>\n",
       "      <td>0.44</td>\n",
       "    </tr>\n",
       "    <tr>\n",
       "      <th>2</th>\n",
       "      <td>Decision Tree Classifier</td>\n",
       "      <td>17.33</td>\n",
       "      <td>0.17</td>\n",
       "      <td>0.17</td>\n",
       "      <td>0.17</td>\n",
       "    </tr>\n",
       "    <tr>\n",
       "      <th>3</th>\n",
       "      <td>K Nearest Neighbour</td>\n",
       "      <td>24.00</td>\n",
       "      <td>0.24</td>\n",
       "      <td>0.24</td>\n",
       "      <td>0.24</td>\n",
       "    </tr>\n",
       "  </tbody>\n",
       "</table>\n",
       "</div>"
      ],
      "text/plain": [
       "                      Model  Test Accuracy  Precision  Recall    F1\n",
       "0       Logistic Regression          40.00       0.40    0.40  0.40\n",
       "1             Random Forest          44.00       0.44    0.44  0.44\n",
       "2  Decision Tree Classifier          17.33       0.17    0.17  0.17\n",
       "3       K Nearest Neighbour          24.00       0.24    0.24  0.24"
      ]
     },
     "execution_count": 165,
     "metadata": {},
     "output_type": "execute_result"
    }
   ],
   "source": [
    "model_performance = pd.DataFrame(data=perform_list)\n",
    "model_performance = model_performance[['Model', 'Test Accuracy', 'Precision', 'Recall', 'F1']]\n",
    "model_performance"
   ]
  },
  {
   "cell_type": "markdown",
   "metadata": {},
   "source": [
    "# Best model to perform accuracy score"
   ]
  },
  {
   "cell_type": "code",
   "execution_count": 166,
   "metadata": {},
   "outputs": [
    {
     "name": "stdout",
     "output_type": "stream",
     "text": [
      "The best accuracy of model is 44.0 from Logistic Regression\n"
     ]
    }
   ],
   "source": [
    "model = model_performance[\"Model\"]\n",
    "max_value = model_performance[\"Test Accuracy\"].max()\n",
    "print(\"The best accuracy of model is\", max_value,\"from Logistic Regression\")"
   ]
  },
  {
   "cell_type": "markdown",
   "metadata": {},
   "source": [
    "# Individual train, fit and predict the model"
   ]
  },
  {
   "cell_type": "markdown",
   "metadata": {},
   "source": [
    "# Regression Model"
   ]
  },
  {
   "cell_type": "code",
   "execution_count": 168,
   "metadata": {},
   "outputs": [
    {
     "name": "stdout",
     "output_type": "stream",
     "text": [
      "accuracy of our model is: 0.4\n",
      "                precision    recall  f1-score   support\n",
      "\n",
      "         CRIME       0.57      0.30      0.39        27\n",
      " ENTERTAINMENT       0.33      0.50      0.40         4\n",
      "    WORLD NEWS       0.00      0.00      0.00         0\n",
      "        IMPACT       0.77      0.47      0.58        43\n",
      "      POLITICS       0.00      0.00      0.00         0\n",
      "    WEIRD NEWS       0.00      0.00      0.00         0\n",
      "  BLACK VOICES       0.00      0.00      0.00         1\n",
      "         WOMEN       0.00      0.00      0.00         0\n",
      "        COMEDY       0.00      0.00      0.00         0\n",
      " ENTERTAINMENT       0.00      0.00      0.00         0\n",
      "  QUEER VOICES       0.00      0.00      0.00         0\n",
      "        SPORTS       0.00      0.00      0.00         0\n",
      "      BUSINESS       0.00      0.00      0.00         0\n",
      "ENTERTAINMENT        0.00      0.00      0.00         0\n",
      "        TRAVEL       0.00      0.00      0.00         0\n",
      "         MEDIA       0.00      0.00      0.00         0\n",
      "\n",
      "     micro avg       0.42      0.40      0.41        75\n",
      "     macro avg       0.10      0.08      0.09        75\n",
      "  weighted avg       0.66      0.40      0.49        75\n",
      "\n"
     ]
    },
    {
     "name": "stderr",
     "output_type": "stream",
     "text": [
      "C:\\Users\\Silicon computers\\anaconda3\\lib\\site-packages\\sklearn\\metrics\\_classification.py:1945: UserWarning: labels size, 16, does not match size of target_names, 21\n",
      "  warnings.warn(\n",
      "C:\\Users\\Silicon computers\\anaconda3\\lib\\site-packages\\sklearn\\metrics\\_classification.py:1221: UndefinedMetricWarning: Precision and F-score are ill-defined and being set to 0.0 in labels with no predicted samples. Use `zero_division` parameter to control this behavior.\n",
      "  _warn_prf(average, modifier, msg_start, len(result))\n",
      "C:\\Users\\Silicon computers\\anaconda3\\lib\\site-packages\\sklearn\\metrics\\_classification.py:1221: UndefinedMetricWarning: Recall and F-score are ill-defined and being set to 0.0 in labels with no true samples. Use `zero_division` parameter to control this behavior.\n",
      "  _warn_prf(average, modifier, msg_start, len(result))\n"
     ]
    }
   ],
   "source": [
    "model = LogisticRegression()\n",
    "model.fit(x_train, y_train)\n",
    "\n",
    "y_pred = model.predict(x_test)\n",
    "score = accuracy_score(y_test, y_pred)\n",
    "print(\"accuracy of our model is:\",score)\n",
    "print(classification_report(y_pred, y_test, labels=[1,2,3,4,5,6,7,8,9,10,11,12,13,14,15,16], target_names=target_category))"
   ]
  },
  {
   "cell_type": "markdown",
   "metadata": {},
   "source": [
    "# ........THE END......\n",
    "# THANKYOU FOR THE ATTENTION!"
   ]
  }
 ],
 "metadata": {
  "kernelspec": {
   "display_name": "Python 3",
   "language": "python",
   "name": "python3"
  },
  "language_info": {
   "codemirror_mode": {
    "name": "ipython",
    "version": 3
   },
   "file_extension": ".py",
   "mimetype": "text/x-python",
   "name": "python",
   "nbconvert_exporter": "python",
   "pygments_lexer": "ipython3",
   "version": "3.8.5"
  }
 },
 "nbformat": 4,
 "nbformat_minor": 4
}
